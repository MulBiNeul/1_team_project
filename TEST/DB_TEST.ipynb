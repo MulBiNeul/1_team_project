{
 "cells": [
  {
   "cell_type": "markdown",
   "id": "86276633",
   "metadata": {},
   "source": [
    "### Duck DB 테스트"
   ]
  },
  {
   "cell_type": "code",
   "execution_count": 5,
   "id": "9eda126d",
   "metadata": {},
   "outputs": [],
   "source": [
    "import duckdb\n",
    "import pandas as pd"
   ]
  },
  {
   "cell_type": "code",
   "execution_count": 6,
   "id": "4d81a4c0",
   "metadata": {},
   "outputs": [],
   "source": [
    "# 테스트용 데이터프레임 생성\n",
    "df = pd.DataFrame({\n",
    "    'name': ['노한별', '전민서','박승주','이승기','이현승'],\n",
    "    'age': [25, 26 ,27 ,28 ,29 ]\n",
    "})"
   ]
  },
  {
   "cell_type": "code",
   "execution_count": 7,
   "id": "09bf179e",
   "metadata": {},
   "outputs": [],
   "source": [
    "# DuckDB 쿼리 실행 (인메모리 모드)\n",
    "result = duckdb.query(\"SELECT * FROM df\").to_df()"
   ]
  },
  {
   "cell_type": "code",
   "execution_count": 8,
   "id": "c8342881",
   "metadata": {},
   "outputs": [
    {
     "name": "stdout",
     "output_type": "stream",
     "text": [
      "  name  age\n",
      "0  노한별   25\n",
      "1  전민서   26\n",
      "2  박승주   27\n",
      "3  이승기   28\n",
      "4  이현승   29\n"
     ]
    }
   ],
   "source": [
    "print(result)"
   ]
  },
  {
   "cell_type": "markdown",
   "id": "b36925de",
   "metadata": {},
   "source": [
    "---"
   ]
  },
  {
   "cell_type": "markdown",
   "id": "72019969",
   "metadata": {},
   "source": [
    "### PostgreSQL 테스트"
   ]
  },
  {
   "cell_type": "code",
   "execution_count": 9,
   "id": "c1d62ee2",
   "metadata": {},
   "outputs": [
    {
     "name": "stdout",
     "output_type": "stream",
     "text": [
      "Requirement already satisfied: sqlalchemy in c:\\users\\user\\documents\\github\\1_team_project\\test\\venv\\lib\\site-packages (2.0.41)\n",
      "Requirement already satisfied: greenlet>=1 in c:\\users\\user\\documents\\github\\1_team_project\\test\\venv\\lib\\site-packages (from sqlalchemy) (3.2.2)\n",
      "Requirement already satisfied: typing-extensions>=4.6.0 in c:\\users\\user\\documents\\github\\1_team_project\\test\\venv\\lib\\site-packages (from sqlalchemy) (4.13.2)\n",
      "Note: you may need to restart the kernel to use updated packages.\n"
     ]
    },
    {
     "name": "stderr",
     "output_type": "stream",
     "text": [
      "\n",
      "[notice] A new release of pip is available: 24.0 -> 25.1.1\n",
      "[notice] To update, run: python.exe -m pip install --upgrade pip\n"
     ]
    }
   ],
   "source": [
    "pip install sqlalchemy"
   ]
  },
  {
   "cell_type": "code",
   "execution_count": 10,
   "id": "061c1752",
   "metadata": {},
   "outputs": [],
   "source": [
    "from sqlalchemy import create_engine\n",
    "import pandas as pd"
   ]
  },
  {
   "cell_type": "code",
   "execution_count": 11,
   "id": "2f332b78",
   "metadata": {},
   "outputs": [
    {
     "name": "stdout",
     "output_type": "stream",
     "text": [
      "Collecting psycopg2\n",
      "  Downloading psycopg2-2.9.10-cp311-cp311-win_amd64.whl.metadata (5.0 kB)\n",
      "Downloading psycopg2-2.9.10-cp311-cp311-win_amd64.whl (1.2 MB)\n",
      "   ---------------------------------------- 0.0/1.2 MB ? eta -:--:--\n",
      "   ---------------------------------------- 0.0/1.2 MB ? eta -:--:--\n",
      "   - -------------------------------------- 0.0/1.2 MB 435.7 kB/s eta 0:00:03\n",
      "   ------- -------------------------------- 0.2/1.2 MB 2.1 MB/s eta 0:00:01\n",
      "   -------------- ------------------------- 0.4/1.2 MB 2.8 MB/s eta 0:00:01\n",
      "   -------------- ------------------------- 0.4/1.2 MB 2.4 MB/s eta 0:00:01\n",
      "   ----------------------- ---------------- 0.7/1.2 MB 2.9 MB/s eta 0:00:01\n",
      "   ------------------------------- -------- 0.9/1.2 MB 3.2 MB/s eta 0:00:01\n",
      "   -------------------------------------- - 1.1/1.2 MB 3.3 MB/s eta 0:00:01\n",
      "   ---------------------------------------- 1.2/1.2 MB 3.4 MB/s eta 0:00:00\n",
      "Installing collected packages: psycopg2\n",
      "Successfully installed psycopg2-2.9.10\n",
      "Note: you may need to restart the kernel to use updated packages.\n"
     ]
    },
    {
     "name": "stderr",
     "output_type": "stream",
     "text": [
      "\n",
      "[notice] A new release of pip is available: 24.0 -> 25.1.1\n",
      "[notice] To update, run: python.exe -m pip install --upgrade pip\n"
     ]
    }
   ],
   "source": [
    "pip install psycopg2"
   ]
  },
  {
   "cell_type": "code",
   "execution_count": 12,
   "id": "abd1c58f",
   "metadata": {},
   "outputs": [
    {
     "name": "stdout",
     "output_type": "stream",
     "text": [
      "Note: you may need to restart the kernel to use updated packages.\n"
     ]
    },
    {
     "name": "stderr",
     "output_type": "stream",
     "text": [
      "ERROR: Could not find a version that satisfies the requirement postgresql (from versions: none)\n",
      "ERROR: No matching distribution found for postgresql\n",
      "\n",
      "[notice] A new release of pip is available: 24.0 -> 25.1.1\n",
      "[notice] To update, run: python.exe -m pip install --upgrade pip\n"
     ]
    }
   ],
   "source": [
    "pip install postgresql"
   ]
  },
  {
   "cell_type": "code",
   "execution_count": 15,
   "id": "5c9d5c6c",
   "metadata": {},
   "outputs": [
    {
     "name": "stdout",
     "output_type": "stream",
     "text": [
      "Requirement already satisfied: pip in c:\\users\\user\\documents\\github\\1_team_project\\test\\venv\\lib\\site-packages (24.0)\n",
      "Collecting pip\n",
      "  Downloading pip-25.1.1-py3-none-any.whl.metadata (3.6 kB)\n",
      "Downloading pip-25.1.1-py3-none-any.whl (1.8 MB)\n",
      "   ---------------------------------------- 0.0/1.8 MB ? eta -:--:--\n",
      "    --------------------------------------- 0.0/1.8 MB 1.3 MB/s eta 0:00:02\n",
      "   ----- ---------------------------------- 0.2/1.8 MB 3.6 MB/s eta 0:00:01\n",
      "   ------------ --------------------------- 0.6/1.8 MB 5.0 MB/s eta 0:00:01\n",
      "   ------------------ --------------------- 0.9/1.8 MB 5.4 MB/s eta 0:00:01\n",
      "   -------------------------- ------------- 1.2/1.8 MB 5.8 MB/s eta 0:00:01\n",
      "   --------------------------- ------------ 1.3/1.8 MB 5.8 MB/s eta 0:00:01\n",
      "   ------------------------------ --------- 1.4/1.8 MB 4.9 MB/s eta 0:00:01\n",
      "   ------------------------------------ --- 1.7/1.8 MB 4.9 MB/s eta 0:00:01\n",
      "   ---------------------------------------- 1.8/1.8 MB 4.8 MB/s eta 0:00:00\n",
      "Installing collected packages: pip\n",
      "  Attempting uninstall: pip\n",
      "    Found existing installation: pip 24.0\n",
      "    Uninstalling pip-24.0:\n",
      "      Successfully uninstalled pip-24.0\n",
      "Successfully installed pip-25.1.1\n",
      "Note: you may need to restart the kernel to use updated packages.\n"
     ]
    }
   ],
   "source": [
    "pip install --upgrade pip"
   ]
  },
  {
   "cell_type": "code",
   "execution_count": null,
   "id": "8f86f012",
   "metadata": {},
   "outputs": [],
   "source": []
  }
 ],
 "metadata": {
  "kernelspec": {
   "display_name": "venv",
   "language": "python",
   "name": "python3"
  },
  "language_info": {
   "codemirror_mode": {
    "name": "ipython",
    "version": 3
   },
   "file_extension": ".py",
   "mimetype": "text/x-python",
   "name": "python",
   "nbconvert_exporter": "python",
   "pygments_lexer": "ipython3",
   "version": "3.11.9"
  }
 },
 "nbformat": 4,
 "nbformat_minor": 5
}
