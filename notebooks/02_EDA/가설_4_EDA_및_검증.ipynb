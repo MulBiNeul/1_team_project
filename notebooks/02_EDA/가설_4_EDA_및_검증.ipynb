{
 "cells": [
  {
   "cell_type": "markdown",
   "id": "2051c0f8",
   "metadata": {},
   "source": [
    "### 고령자 사고의 사망률이 비고령자 대비 유의미하게 높다."
   ]
  },
  {
   "cell_type": "markdown",
   "id": "6949ee91",
   "metadata": {},
   "source": [
    "귀무가설(H0): 고령자 사고의 사망률은 비고령자 사고의 사망률과 차이가 없다.\n",
    "<br>\n",
    "<br>\n",
    "대립가설(H1): 고령자 사고의 사망률은 비고령자 사고의 사망률과 차이가 있다."
   ]
  },
  {
   "cell_type": "code",
   "execution_count": null,
   "id": "731856d1",
   "metadata": {
    "vscode": {
     "languageId": "plaintext"
    }
   },
   "outputs": [],
   "source": []
  }
 ],
 "metadata": {
  "language_info": {
   "name": "python"
  }
 },
 "nbformat": 4,
 "nbformat_minor": 5
}
