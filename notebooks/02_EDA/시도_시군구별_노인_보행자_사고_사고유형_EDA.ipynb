{
 "cells": [
  {
   "cell_type": "code",
   "execution_count": 3,
   "id": "8517aede",
   "metadata": {},
   "outputs": [],
   "source": [
    "# 라이브러리 호출 및 plot 설정\n",
    "import pandas as pd\n",
    "import matplotlib\n",
    "import matplotlib.pyplot as plt\n",
    "\n",
    "plt.rcParams['font.family'] = 'AppleGothic'\n",
    "plt.rcParams['axes.unicode_minus'] = False"
   ]
  },
  {
   "cell_type": "code",
   "execution_count": null,
   "id": "c3ae013c",
   "metadata": {},
   "outputs": [],
   "source": [
    "df_total = pd.read_csv('../../data/preprocessed_data/시도_시군구별_보행자_사고_사고유형_전처리ver.csv')"
   ]
  },
  {
   "cell_type": "code",
   "execution_count": null,
   "id": "dccd3db7",
   "metadata": {},
   "outputs": [],
   "source": [
    "plt.figure(figsize=(10, 8))\n",
    "plt.subplot(2, 2, 1)\n",
    "df_total['사고내용'].value_counts()\n",
    "df_total['사고내용'].value_counts().plot(kind='pie', autopct='%.1f%%')\n",
    "plt.title('사고내용 비율')\n",
    "plt.ylabel('')\n",
    "\n",
    "plt.subplot(2, 2, 2)\n",
    "df_total['사고유형'].value_counts().plot(kind='pie', autopct='%.1f%%')\n",
    "plt.title('사고유형 비율')\n",
    "plt.ylabel('')\n",
    "\n",
    "plt.subplot(2, 2, 3)\n",
    "df_total['도로형태'].value_counts().plot(kind='pie', autopct='%.1f%%')\n",
    "plt.title('도로형태 비율')\n",
    "plt.ylabel('')\n",
    "\n",
    "plt.subplot(2, 2, 4)\n",
    "plt.bar(['사망자수', '중상자수', '경상자수', '부상신고자수'],\n",
    "        [df_total['사망자수'].sum(),\n",
    "         df_total['중상자수'].sum(),\n",
    "         df_total['경상자수'].sum(),\n",
    "        df_total['부상신고자수'].sum()])\n",
    "plt.title('사망자수 vs 중상자수 vs 경상자수 vs 부상신고자수')\n",
    "plt.xlabel('피해자 유형')\n",
    "plt.ylabel('건수')\n",
    "\n",
    "plt.tight_layout()\n",
    "plt.show()"
   ]
  }
 ],
 "metadata": {
  "kernelspec": {
   "display_name": "ESTsoft_TP_1",
   "language": "python",
   "name": "python3"
  },
  "language_info": {
   "codemirror_mode": {
    "name": "ipython",
    "version": 3
   },
   "file_extension": ".py",
   "mimetype": "text/x-python",
   "name": "python",
   "nbconvert_exporter": "python",
   "pygments_lexer": "ipython3",
   "version": "3.11.11"
  }
 },
 "nbformat": 4,
 "nbformat_minor": 5
}
