{
 "cells": [
  {
   "cell_type": "markdown",
   "id": "6abcd7fc",
   "metadata": {},
   "source": [
    "### 고령자 보행자 사고는 교차로 또는 횡단보도 인근에서 더 많이 발생한다."
   ]
  },
  {
   "cell_type": "markdown",
   "id": "c3751d31",
   "metadata": {},
   "source": [
    "귀무가설(H0): 고령자 보행자 사고량는 교차로 또는 횡단보도 인근 여부와 관련이 없다.\n",
    "<br>\n",
    "<br>\n",
    "대립가설(H1): 고령자 보행자 사고량은 교차로 또는 횡단보도 인근 여부와 관련이 있다."
   ]
  },
  {
   "cell_type": "code",
   "execution_count": null,
   "id": "61de5527",
   "metadata": {},
   "outputs": [],
   "source": [
    "# 라이브러리 호출 및 plot 설정\n",
    "import pandas as pd\n",
    "import matplotlib\n",
    "import matplotlib.pyplot as plt\n",
    "import seaborn as sns\n",
    "from IPython.display import HTML\n",
    "from scipy.stats import chi2_contingency\n",
    "import warnings\n",
    "\n",
    "plt.rcParams['font.family'] = 'AppleGothic'\n",
    "plt.rcParams['axes.unicode_minus'] = False\n",
    "warnings.filterwarnings(\"ignore\")"
   ]
  }
 ],
 "metadata": {
  "kernelspec": {
   "display_name": "ESTsoft_TP_1",
   "language": "python",
   "name": "python3"
  },
  "language_info": {
   "name": "python",
   "version": "3.11.11"
  }
 },
 "nbformat": 4,
 "nbformat_minor": 5
}
