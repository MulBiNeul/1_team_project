{
 "cells": [
  {
   "cell_type": "markdown",
   "id": "6abcd7fc",
   "metadata": {},
   "source": [
    "### 고령자 보행자 사고는 교차로 또는 횡단보도 인근에서 더 많이 발생한다."
   ]
  },
  {
   "cell_type": "markdown",
   "id": "c3751d31",
   "metadata": {},
   "source": [
    "귀무가설(H0): 고령자 보행자 사고량는 교차로 또는 횡단보도 인근 여부와 관련이 없다.\n",
    "<br>\n",
    "<br>\n",
    "대립가설(H1): 고령자 보행자 사고량은 교차로 또는 횡단보도 인근 여부와 관련이 있다."
   ]
  },
  {
   "cell_type": "code",
   "execution_count": 7,
   "id": "61de5527",
   "metadata": {},
   "outputs": [],
   "source": [
    "# 라이브러리 호출 및 plot 설정\n",
    "import pandas as pd\n",
    "import matplotlib\n",
    "import matplotlib.pyplot as plt\n",
    "import seaborn as sns\n",
    "from IPython.display import HTML\n",
    "from scipy.stats import chi2_contingency\n",
    "import statsmodels.api as sm\n",
    "import warnings\n",
    "\n",
    "plt.rcParams['font.family'] = 'AppleGothic'\n",
    "plt.rcParams['axes.unicode_minus'] = False\n",
    "warnings.filterwarnings(\"ignore\")"
   ]
  },
  {
   "cell_type": "code",
   "execution_count": 8,
   "id": "5ed4d02e",
   "metadata": {},
   "outputs": [
    {
     "data": {
      "text/html": [
       "<table border=\"1\" class=\"dataframe\">\n",
       "  <thead>\n",
       "    <tr style=\"text-align: right;\">\n",
       "      <th></th>\n",
       "      <th>연도</th>\n",
       "      <th>시군구</th>\n",
       "      <th>법정동코드</th>\n",
       "      <th>사고내용</th>\n",
       "      <th>사망자수</th>\n",
       "      <th>중상자수</th>\n",
       "      <th>경상자수</th>\n",
       "      <th>부상신고자수</th>\n",
       "      <th>사고유형</th>\n",
       "      <th>도로형태</th>\n",
       "      <th>피해자 상해정도</th>\n",
       "    </tr>\n",
       "  </thead>\n",
       "  <tbody>\n",
       "    <tr>\n",
       "      <th>0</th>\n",
       "      <td>2020</td>\n",
       "      <td>서울특별시 종로구 창성동</td>\n",
       "      <td>1111010500</td>\n",
       "      <td>중상사고</td>\n",
       "      <td>0</td>\n",
       "      <td>1</td>\n",
       "      <td>0</td>\n",
       "      <td>0</td>\n",
       "      <td>차대사람 - 차도통행중</td>\n",
       "      <td>교차로 - 교차로부근</td>\n",
       "      <td>중상</td>\n",
       "    </tr>\n",
       "    <tr>\n",
       "      <th>1</th>\n",
       "      <td>2020</td>\n",
       "      <td>서울특별시 종로구 창성동</td>\n",
       "      <td>1111010500</td>\n",
       "      <td>중상사고</td>\n",
       "      <td>0</td>\n",
       "      <td>1</td>\n",
       "      <td>0</td>\n",
       "      <td>0</td>\n",
       "      <td>차대사람 - 차도통행중</td>\n",
       "      <td>교차로 - 교차로안</td>\n",
       "      <td>중상</td>\n",
       "    </tr>\n",
       "    <tr>\n",
       "      <th>2</th>\n",
       "      <td>2020</td>\n",
       "      <td>서울특별시 종로구 통인동</td>\n",
       "      <td>1111010800</td>\n",
       "      <td>경상사고</td>\n",
       "      <td>0</td>\n",
       "      <td>0</td>\n",
       "      <td>1</td>\n",
       "      <td>0</td>\n",
       "      <td>차대사람 - 기타</td>\n",
       "      <td>단일로 - 기타</td>\n",
       "      <td>경상</td>\n",
       "    </tr>\n",
       "    <tr>\n",
       "      <th>3</th>\n",
       "      <td>2020</td>\n",
       "      <td>서울특별시 종로구 누상동</td>\n",
       "      <td>1111010900</td>\n",
       "      <td>경상사고</td>\n",
       "      <td>0</td>\n",
       "      <td>0</td>\n",
       "      <td>1</td>\n",
       "      <td>0</td>\n",
       "      <td>차대사람 - 차도통행중</td>\n",
       "      <td>교차로 - 교차로안</td>\n",
       "      <td>경상</td>\n",
       "    </tr>\n",
       "    <tr>\n",
       "      <th>4</th>\n",
       "      <td>2020</td>\n",
       "      <td>서울특별시 종로구 누상동</td>\n",
       "      <td>1111010900</td>\n",
       "      <td>경상사고</td>\n",
       "      <td>0</td>\n",
       "      <td>0</td>\n",
       "      <td>1</td>\n",
       "      <td>0</td>\n",
       "      <td>차대사람 - 기타</td>\n",
       "      <td>단일로 - 기타</td>\n",
       "      <td>경상</td>\n",
       "    </tr>\n",
       "  </tbody>\n",
       "</table>"
      ],
      "text/plain": [
       "<IPython.core.display.HTML object>"
      ]
     },
     "execution_count": 8,
     "metadata": {},
     "output_type": "execute_result"
    }
   ],
   "source": [
    "df_total = pd.read_csv('../../data/preprocessed_data/시도_시군구별_보행자_사고_사고유형_전처리ver.csv')\n",
    "# df_total.head()\n",
    "HTML(df_total.head().to_html())"
   ]
  },
  {
   "cell_type": "code",
   "execution_count": 9,
   "id": "62a69303",
   "metadata": {},
   "outputs": [
    {
     "data": {
      "application/vnd.microsoft.datawrangler.viewer.v0+json": {
       "columns": [
        {
         "name": "사고유형",
         "rawType": "object",
         "type": "string"
        },
        {
         "name": "총피해자수",
         "rawType": "float64",
         "type": "float"
        }
       ],
       "ref": "fa03affe-1877-4727-b02a-38b01ef4edb8",
       "rows": [
        [
         "차대사람 - 보도통행중",
         "1.0586940572267058"
        ],
        [
         "차대사람 - 기타",
         "1.0509985557049655"
        ],
        [
         "차대사람 - 횡단중",
         "1.0463039014373716"
        ],
        [
         "차대사람 - 길가장자리구역통행중",
         "1.0404077175100108"
        ],
        [
         "차대사람 - 차도통행중",
         "1.029070643169152"
        ]
       ],
       "shape": {
        "columns": 1,
        "rows": 5
       }
      },
      "text/plain": [
       "사고유형\n",
       "차대사람 - 보도통행중         1.058694\n",
       "차대사람 - 기타            1.050999\n",
       "차대사람 - 횡단중           1.046304\n",
       "차대사람 - 길가장자리구역통행중    1.040408\n",
       "차대사람 - 차도통행중         1.029071\n",
       "Name: 총피해자수, dtype: float64"
      ]
     },
     "execution_count": 9,
     "metadata": {},
     "output_type": "execute_result"
    }
   ],
   "source": [
    "# 사고유형별 평균 피해자 수\n",
    "df_total['총피해자수'] = (\n",
    "    df_total['사망자수'] +\n",
    "    df_total['중상자수'] +\n",
    "    df_total['경상자수'] +\n",
    "    df_total['부상신고자수']\n",
    ")\n",
    "\n",
    "df_total.groupby('사고유형')['총피해자수'].mean().sort_values(ascending=False)\n",
    "\n",
    "# ======================================\n",
    "# 피해자 수가 아닌 사고 건수 중심으로 시각화 및 검정\n",
    "# ======================================"
   ]
  },
  {
   "cell_type": "code",
   "execution_count": 10,
   "id": "b98a4def",
   "metadata": {},
   "outputs": [
    {
     "data": {
      "image/png": "[encoded data removed]",
      "text/plain": [
       "<Figure size 1000x600 with 1 Axes>"
      ]
     },
     "metadata": {},
     "output_type": "display_data"
    }
   ],
   "source": [
    "# 사고유형별 건수 계산\n",
    "accident_types = df_total['사고유형'].value_counts()\n",
    "\n",
    "# 시각화\n",
    "plt.figure(figsize=(10, 6))\n",
    "bars = plt.barh(accident_types.index, accident_types.values, color='skyblue')\n",
    "\n",
    "# 각 막대에 숫자 표시\n",
    "for bar in bars:\n",
    "    width = bar.get_width()\n",
    "    plt.text(width + 50, bar.get_y() + bar.get_height()/2,\n",
    "             f'{int(width):,}', va='center', fontsize=10)\n",
    "\n",
    "plt.xlabel('사고 건수')\n",
    "plt.ylabel('사고 유형')\n",
    "plt.title('사고유형별 사고 건수')\n",
    "plt.tight_layout()\n",
    "plt.show()\n",
    "\n",
    "# save_path = '../../outputs/가설_5/사고유형별_사고_건수.png'\n",
    "# plt.savefig(save_path)"
   ]
  },
  {
   "cell_type": "code",
   "execution_count": 11,
   "id": "88ef3cfc",
   "metadata": {},
   "outputs": [
    {
     "data": {
      "image/png": "[encoded data removed]",
      "text/plain": [
       "<Figure size 1000x600 with 1 Axes>"
      ]
     },
     "metadata": {},
     "output_type": "display_data"
    }
   ],
   "source": [
    "road_type = df_total['도로형태'].value_counts()\n",
    "\n",
    "# 시각화\n",
    "plt.figure(figsize=(10, 6))\n",
    "bars = plt.barh(road_type.index, road_type.values, color='skyblue')\n",
    "\n",
    "# 각 막대에 숫자 표시\n",
    "for bar in bars:\n",
    "    width = bar.get_width()\n",
    "    plt.text(width + 50, bar.get_y() + bar.get_height()/2,\n",
    "             f'{int(width):,}', va='center', fontsize=10)\n",
    "\n",
    "plt.xlabel('사고 건수')\n",
    "plt.ylabel('도로 형태')\n",
    "plt.title('도로유형별 사고 건수')\n",
    "plt.tight_layout()\n",
    "plt.show()\n",
    "\n",
    "# save_path = '../../outputs/가설_5/도로유형별_사고_건수.png'\n",
    "# plt.savefig(save_path)"
   ]
  },
  {
   "cell_type": "code",
   "execution_count": 12,
   "id": "76949759",
   "metadata": {},
   "outputs": [
    {
     "data": {
      "application/vnd.microsoft.datawrangler.viewer.v0+json": {
       "columns": [
        {
         "name": "사고유형",
         "rawType": "object",
         "type": "string"
        },
        {
         "name": "전체사고수",
         "rawType": "int64",
         "type": "integer"
        },
        {
         "name": "교차로_또는_횡단보도_사고수",
         "rawType": "int64",
         "type": "integer"
        },
        {
         "name": "비율(%)",
         "rawType": "float64",
         "type": "float"
        }
       ],
       "ref": "0646050d-f33f-4857-9df7-8a02096ba38c",
       "rows": [
        [
         "차대사람 - 횡단중",
         "19480",
         "12235",
         "62.81"
        ],
        [
         "차대사람 - 차도통행중",
         "6639",
         "2604",
         "39.22"
        ],
        [
         "차대사람 - 보도통행중",
         "2726",
         "900",
         "33.02"
        ],
        [
         "차대사람 - 기타",
         "20079",
         "5835",
         "29.06"
        ],
        [
         "차대사람 - 길가장자리구역통행중",
         "2747",
         "725",
         "26.39"
        ]
       ],
       "shape": {
        "columns": 3,
        "rows": 5
       }
      },
      "text/html": [
       "<div>\n",
       "<style scoped>\n",
       "    .dataframe tbody tr th:only-of-type {\n",
       "        vertical-align: middle;\n",
       "    }\n",
       "\n",
       "    .dataframe tbody tr th {\n",
       "        vertical-align: top;\n",
       "    }\n",
       "\n",
       "    .dataframe thead th {\n",
       "        text-align: right;\n",
       "    }\n",
       "</style>\n",
       "<table border=\"1\" class=\"dataframe\">\n",
       "  <thead>\n",
       "    <tr style=\"text-align: right;\">\n",
       "      <th></th>\n",
       "      <th>전체사고수</th>\n",
       "      <th>교차로_또는_횡단보도_사고수</th>\n",
       "      <th>비율(%)</th>\n",
       "    </tr>\n",
       "    <tr>\n",
       "      <th>사고유형</th>\n",
       "      <th></th>\n",
       "      <th></th>\n",
       "      <th></th>\n",
       "    </tr>\n",
       "  </thead>\n",
       "  <tbody>\n",
       "    <tr>\n",
       "      <th>차대사람 - 횡단중</th>\n",
       "      <td>19480</td>\n",
       "      <td>12235</td>\n",
       "      <td>62.81</td>\n",
       "    </tr>\n",
       "    <tr>\n",
       "      <th>차대사람 - 차도통행중</th>\n",
       "      <td>6639</td>\n",
       "      <td>2604</td>\n",
       "      <td>39.22</td>\n",
       "    </tr>\n",
       "    <tr>\n",
       "      <th>차대사람 - 보도통행중</th>\n",
       "      <td>2726</td>\n",
       "      <td>900</td>\n",
       "      <td>33.02</td>\n",
       "    </tr>\n",
       "    <tr>\n",
       "      <th>차대사람 - 기타</th>\n",
       "      <td>20079</td>\n",
       "      <td>5835</td>\n",
       "      <td>29.06</td>\n",
       "    </tr>\n",
       "    <tr>\n",
       "      <th>차대사람 - 길가장자리구역통행중</th>\n",
       "      <td>2747</td>\n",
       "      <td>725</td>\n",
       "      <td>26.39</td>\n",
       "    </tr>\n",
       "  </tbody>\n",
       "</table>\n",
       "</div>"
      ],
      "text/plain": [
       "                   전체사고수  교차로_또는_횡단보도_사고수  비율(%)\n",
       "사고유형                                            \n",
       "차대사람 - 횡단중         19480            12235  62.81\n",
       "차대사람 - 차도통행중        6639             2604  39.22\n",
       "차대사람 - 보도통행중        2726              900  33.02\n",
       "차대사람 - 기타          20079             5835  29.06\n",
       "차대사람 - 길가장자리구역통행중   2747              725  26.39"
      ]
     },
     "execution_count": 12,
     "metadata": {},
     "output_type": "execute_result"
    }
   ],
   "source": [
    "# 교차로 또는 횡단보도\n",
    "crosswalk_roadtypes = [\n",
    "    '교차로 - 교차로안',\n",
    "    '교차로 - 교차로부근',\n",
    "    '교차로 - 교차로횡단보도내'\n",
    "]\n",
    "\n",
    "# 사고유형별 전체 사고 건수\n",
    "total_by_type = df_total['사고유형'].value_counts().rename('전체사고수')\n",
    "\n",
    "# 교차로 또는 횡단보도 도로형태에서 발생한 사고만 필터링\n",
    "df_crosswalk = df_total[df_total['도로형태'].isin(crosswalk_roadtypes)]\n",
    "\n",
    "# 사고유형별 교차로/횡단보도 내 사고 건수\n",
    "crosswalk_by_type = df_crosswalk['사고유형'].value_counts().rename('교차로_또는_횡단보도_사고수')\n",
    "\n",
    "# 합치기\n",
    "summary = pd.concat([total_by_type, crosswalk_by_type], axis=1).fillna(0)\n",
    "summary['비율(%)'] = ((summary['교차로_또는_횡단보도_사고수'] / summary['전체사고수']) * 100).round(2)\n",
    "\n",
    "# 정렬 (선택)\n",
    "summary = summary.sort_values(by='비율(%)', ascending=False)\n",
    "summary"
   ]
  },
  {
   "cell_type": "code",
   "execution_count": null,
   "id": "ea2c3551",
   "metadata": {},
   "outputs": [
    {
     "data": {
      "application/vnd.microsoft.datawrangler.viewer.v0+json": {
       "columns": [
        {
         "name": "도로형태",
         "rawType": "object",
         "type": "string"
        },
        {
         "name": "차대사람 - 기타",
         "rawType": "int64",
         "type": "integer"
        },
        {
         "name": "차대사람 - 길가장자리구역통행중",
         "rawType": "int64",
         "type": "integer"
        },
        {
         "name": "차대사람 - 보도통행중",
         "rawType": "int64",
         "type": "integer"
        },
        {
         "name": "차대사람 - 차도통행중",
         "rawType": "int64",
         "type": "integer"
        },
        {
         "name": "차대사람 - 횡단중",
         "rawType": "int64",
         "type": "integer"
        }
       ],
       "ref": "64aa2322-0536-4bef-9dab-ca898ae3a79b",
       "rows": [
        [
         "교차로 - 교차로부근",
         "2118",
         "366",
         "239",
         "915",
         "2283"
        ],
        [
         "교차로 - 교차로안",
         "2866",
         "345",
         "237",
         "1606",
         "4189"
        ],
        [
         "교차로 - 교차로횡단보도내",
         "851",
         "14",
         "424",
         "83",
         "5763"
        ],
        [
         "기타 - 기타",
         "2900",
         "142",
         "607",
         "320",
         "682"
        ],
        [
         "단일로 - 고가도로위",
         "17",
         "6",
         "2",
         "18",
         "22"
        ],
        [
         "단일로 - 교량",
         "51",
         "12",
         "10",
         "19",
         "35"
        ],
        [
         "단일로 - 기타",
         "10485",
         "1737",
         "1127",
         "3422",
         "6237"
        ],
        [
         "단일로 - 지하차도(도로)내",
         "156",
         "93",
         "52",
         "170",
         "209"
        ],
        [
         "단일로 - 터널",
         "16",
         "4",
         "3",
         "6",
         "7"
        ],
        [
         "미분류 - 미분류",
         "31",
         "2",
         "5",
         "5",
         "6"
        ],
        [
         "주차장 - 주차장",
         "588",
         "26",
         "20",
         "75",
         "47"
        ]
       ],
       "shape": {
        "columns": 5,
        "rows": 11
       }
      },
      "text/html": [
       "<div>\n",
       "<style scoped>\n",
       "    .dataframe tbody tr th:only-of-type {\n",
       "        vertical-align: middle;\n",
       "    }\n",
       "\n",
       "    .dataframe tbody tr th {\n",
       "        vertical-align: top;\n",
       "    }\n",
       "\n",
       "    .dataframe thead th {\n",
       "        text-align: right;\n",
       "    }\n",
       "</style>\n",
       "<table border=\"1\" class=\"dataframe\">\n",
       "  <thead>\n",
       "    <tr style=\"text-align: right;\">\n",
       "      <th>사고유형</th>\n",
       "      <th>차대사람 - 기타</th>\n",
       "      <th>차대사람 - 길가장자리구역통행중</th>\n",
       "      <th>차대사람 - 보도통행중</th>\n",
       "      <th>차대사람 - 차도통행중</th>\n",
       "      <th>차대사람 - 횡단중</th>\n",
       "    </tr>\n",
       "    <tr>\n",
       "      <th>도로형태</th>\n",
       "      <th></th>\n",
       "      <th></th>\n",
       "      <th></th>\n",
       "      <th></th>\n",
       "      <th></th>\n",
       "    </tr>\n",
       "  </thead>\n",
       "  <tbody>\n",
       "    <tr>\n",
       "      <th>교차로 - 교차로부근</th>\n",
       "      <td>2118</td>\n",
       "      <td>366</td>\n",
       "      <td>239</td>\n",
       "      <td>915</td>\n",
       "      <td>2283</td>\n",
       "    </tr>\n",
       "    <tr>\n",
       "      <th>교차로 - 교차로안</th>\n",
       "      <td>2866</td>\n",
       "      <td>345</td>\n",
       "      <td>237</td>\n",
       "      <td>1606</td>\n",
       "      <td>4189</td>\n",
       "    </tr>\n",
       "    <tr>\n",
       "      <th>교차로 - 교차로횡단보도내</th>\n",
       "      <td>851</td>\n",
       "      <td>14</td>\n",
       "      <td>424</td>\n",
       "      <td>83</td>\n",
       "      <td>5763</td>\n",
       "    </tr>\n",
       "    <tr>\n",
       "      <th>기타 - 기타</th>\n",
       "      <td>2900</td>\n",
       "      <td>142</td>\n",
       "      <td>607</td>\n",
       "      <td>320</td>\n",
       "      <td>682</td>\n",
       "    </tr>\n",
       "    <tr>\n",
       "      <th>단일로 - 고가도로위</th>\n",
       "      <td>17</td>\n",
       "      <td>6</td>\n",
       "      <td>2</td>\n",
       "      <td>18</td>\n",
       "      <td>22</td>\n",
       "    </tr>\n",
       "    <tr>\n",
       "      <th>단일로 - 교량</th>\n",
       "      <td>51</td>\n",
       "      <td>12</td>\n",
       "      <td>10</td>\n",
       "      <td>19</td>\n",
       "      <td>35</td>\n",
       "    </tr>\n",
       "    <tr>\n",
       "      <th>단일로 - 기타</th>\n",
       "      <td>10485</td>\n",
       "      <td>1737</td>\n",
       "      <td>1127</td>\n",
       "      <td>3422</td>\n",
       "      <td>6237</td>\n",
       "    </tr>\n",
       "    <tr>\n",
       "      <th>단일로 - 지하차도(도로)내</th>\n",
       "      <td>156</td>\n",
       "      <td>93</td>\n",
       "      <td>52</td>\n",
       "      <td>170</td>\n",
       "      <td>209</td>\n",
       "    </tr>\n",
       "    <tr>\n",
       "      <th>단일로 - 터널</th>\n",
       "      <td>16</td>\n",
       "      <td>4</td>\n",
       "      <td>3</td>\n",
       "      <td>6</td>\n",
       "      <td>7</td>\n",
       "    </tr>\n",
       "    <tr>\n",
       "      <th>미분류 - 미분류</th>\n",
       "      <td>31</td>\n",
       "      <td>2</td>\n",
       "      <td>5</td>\n",
       "      <td>5</td>\n",
       "      <td>6</td>\n",
       "    </tr>\n",
       "    <tr>\n",
       "      <th>주차장 - 주차장</th>\n",
       "      <td>588</td>\n",
       "      <td>26</td>\n",
       "      <td>20</td>\n",
       "      <td>75</td>\n",
       "      <td>47</td>\n",
       "    </tr>\n",
       "  </tbody>\n",
       "</table>\n",
       "</div>"
      ],
      "text/plain": [
       "사고유형             차대사람 - 기타  차대사람 - 길가장자리구역통행중  차대사람 - 보도통행중  차대사람 - 차도통행중  \\\n",
       "도로형태                                                                        \n",
       "교차로 - 교차로부근           2118                366           239           915   \n",
       "교차로 - 교차로안            2866                345           237          1606   \n",
       "교차로 - 교차로횡단보도내         851                 14           424            83   \n",
       "기타 - 기타               2900                142           607           320   \n",
       "단일로 - 고가도로위             17                  6             2            18   \n",
       "단일로 - 교량                51                 12            10            19   \n",
       "단일로 - 기타             10485               1737          1127          3422   \n",
       "단일로 - 지하차도(도로)내        156                 93            52           170   \n",
       "단일로 - 터널                16                  4             3             6   \n",
       "미분류 - 미분류               31                  2             5             5   \n",
       "주차장 - 주차장              588                 26            20            75   \n",
       "\n",
       "사고유형             차대사람 - 횡단중  \n",
       "도로형태                         \n",
       "교차로 - 교차로부근            2283  \n",
       "교차로 - 교차로안             4189  \n",
       "교차로 - 교차로횡단보도내         5763  \n",
       "기타 - 기타                 682  \n",
       "단일로 - 고가도로위              22  \n",
       "단일로 - 교량                 35  \n",
       "단일로 - 기타               6237  \n",
       "단일로 - 지하차도(도로)내         209  \n",
       "단일로 - 터널                  7  \n",
       "미분류 - 미분류                 6  \n",
       "주차장 - 주차장                47  "
      ]
     },
     "execution_count": 13,
     "metadata": {},
     "output_type": "execute_result"
    }
   ],
   "source": [
    "# 도로형태 x 사고유형 교차표 생성\n",
    "pivot = df_total.pivot_table(index='도로형태', columns='사고유형', aggfunc='size', fill_value=0)\n",
    "pivot"
   ]
  },
  {
   "cell_type": "code",
   "execution_count": null,
   "id": "6dbe084b",
   "metadata": {},
   "outputs": [
    {
     "data": {
      "image/png": "[encoded data removed]",
      "text/plain": [
       "<Figure size 1400x800 with 1 Axes>"
      ]
     },
     "metadata": {},
     "output_type": "display_data"
    },
    {
     "data": {
      "text/plain": [
       "<Figure size 640x480 with 0 Axes>"
      ]
     },
     "metadata": {},
     "output_type": "display_data"
    }
   ],
   "source": [
    "# 시각화: 세로 누적 막대그래프\n",
    "pivot_sorted = pivot.loc[pivot.sum(axis=1).sort_values(ascending=False).index]  # 전체 사고수 기준 정렬\n",
    "\n",
    "labels_with_counts = [f\"{col} ({pivot[col].sum():,}건)\" for col in pivot.columns]\n",
    "\n",
    "# 누적 막대 그래프 그리기\n",
    "ax = pivot_sorted.plot(kind='barh', stacked=True, figsize=(14, 8), colormap='tab20')\n",
    "plt.xlabel('사고 건수')\n",
    "plt.ylabel('도로 형태')\n",
    "plt.title('도로형태별 사고유형 분포 (누적 그래프)')\n",
    "\n",
    "# 범례에 숫자 포함하여 수동 지정\n",
    "ax.legend(\n",
    "    labels=labels_with_counts,\n",
    "    title='사고유형',\n",
    "    bbox_to_anchor=(1.05, 1),\n",
    "    loc='upper left',\n",
    "    fontsize=9,\n",
    "    title_fontsize=10\n",
    ")\n",
    "\n",
    "plt.tight_layout()\n",
    "plt.show()\n",
    "\n",
    "# save_path = '../../outputs/가설_5/도로형태별_사고_유형_분포.png'\n",
    "# plt.savefig(save_path)"
   ]
  },
  {
   "cell_type": "code",
   "execution_count": 76,
   "id": "c06a9a4a",
   "metadata": {},
   "outputs": [
    {
     "data": {
      "application/vnd.microsoft.datawrangler.viewer.v0+json": {
       "columns": [
        {
         "name": "위치구분",
         "rawType": "object",
         "type": "string"
        },
        {
         "name": "차대사람 - 기타",
         "rawType": "int64",
         "type": "integer"
        },
        {
         "name": "차대사람 - 길가장자리구역통행중",
         "rawType": "int64",
         "type": "integer"
        },
        {
         "name": "차대사람 - 보도통행중",
         "rawType": "int64",
         "type": "integer"
        },
        {
         "name": "차대사람 - 차도통행중",
         "rawType": "int64",
         "type": "integer"
        },
        {
         "name": "차대사람 - 횡단중",
         "rawType": "int64",
         "type": "integer"
        }
       ],
       "ref": "198b8ce0-458c-4106-b447-125610d301e8",
       "rows": [
        [
         "교차로/횡단보도",
         "5835",
         "725",
         "900",
         "2604",
         "12235"
        ],
        [
         "기타도로",
         "14244",
         "2022",
         "1826",
         "4035",
         "7245"
        ]
       ],
       "shape": {
        "columns": 5,
        "rows": 2
       }
      },
      "text/html": [
       "<div>\n",
       "<style scoped>\n",
       "    .dataframe tbody tr th:only-of-type {\n",
       "        vertical-align: middle;\n",
       "    }\n",
       "\n",
       "    .dataframe tbody tr th {\n",
       "        vertical-align: top;\n",
       "    }\n",
       "\n",
       "    .dataframe thead th {\n",
       "        text-align: right;\n",
       "    }\n",
       "</style>\n",
       "<table border=\"1\" class=\"dataframe\">\n",
       "  <thead>\n",
       "    <tr style=\"text-align: right;\">\n",
       "      <th>사고유형</th>\n",
       "      <th>차대사람 - 기타</th>\n",
       "      <th>차대사람 - 길가장자리구역통행중</th>\n",
       "      <th>차대사람 - 보도통행중</th>\n",
       "      <th>차대사람 - 차도통행중</th>\n",
       "      <th>차대사람 - 횡단중</th>\n",
       "    </tr>\n",
       "    <tr>\n",
       "      <th>위치구분</th>\n",
       "      <th></th>\n",
       "      <th></th>\n",
       "      <th></th>\n",
       "      <th></th>\n",
       "      <th></th>\n",
       "    </tr>\n",
       "  </thead>\n",
       "  <tbody>\n",
       "    <tr>\n",
       "      <th>교차로/횡단보도</th>\n",
       "      <td>5835</td>\n",
       "      <td>725</td>\n",
       "      <td>900</td>\n",
       "      <td>2604</td>\n",
       "      <td>12235</td>\n",
       "    </tr>\n",
       "    <tr>\n",
       "      <th>기타도로</th>\n",
       "      <td>14244</td>\n",
       "      <td>2022</td>\n",
       "      <td>1826</td>\n",
       "      <td>4035</td>\n",
       "      <td>7245</td>\n",
       "    </tr>\n",
       "  </tbody>\n",
       "</table>\n",
       "</div>"
      ],
      "text/plain": [
       "사고유형      차대사람 - 기타  차대사람 - 길가장자리구역통행중  차대사람 - 보도통행중  차대사람 - 차도통행중  차대사람 - 횡단중\n",
       "위치구분                                                                          \n",
       "교차로/횡단보도       5835                725           900          2604       12235\n",
       "기타도로          14244               2022          1826          4035        7245"
      ]
     },
     "execution_count": 76,
     "metadata": {},
     "output_type": "execute_result"
    }
   ],
   "source": [
    "# 교차로/횡단보도 인근 여부 태그 추가\n",
    "def classify_location(row):\n",
    "    if row in ['교차로 - 교차로안', '교차로 - 교차로부근', '교차로 - 교차로횡단보도내']:\n",
    "        return '교차로/횡단보도'\n",
    "    else:\n",
    "        return '기타도로'\n",
    "\n",
    "df_classified = df_total.copy()\n",
    "df_classified['위치구분'] = df_classified['도로형태'].apply(classify_location)\n",
    "\n",
    "contingency_table = pd.crosstab(df_classified['위치구분'], df_classified['사고유형'])\n",
    "contingency_table"
   ]
  },
  {
   "cell_type": "code",
   "execution_count": null,
   "id": "2192a823",
   "metadata": {},
   "outputs": [
    {
     "name": "stdout",
     "output_type": "stream",
     "text": [
      "카이제곱 값: 5163.84\n",
      "p-value: 0.000000000000000\n"
     ]
    }
   ],
   "source": [
    "# 카이제곱 검정 수행\n",
    "chi2, p, dof, expected = chi2_contingency(contingency_table)\n",
    "\n",
    "print(f\"카이제곱 값: {chi2:.2f}\")\n",
    "print(f\"p-value: {p:.15f}\")\n",
    "\n",
    "# ====================================\n",
    "# p-value는 0.0000이므로, 회귀계수가 유의미\n",
    "# 귀무가설 기각\n",
    "# ===================================="
   ]
  },
  {
   "cell_type": "code",
   "execution_count": 82,
   "id": "c978d79d",
   "metadata": {},
   "outputs": [
    {
     "data": {
      "text/html": [
       "<table class=\"simpletable\">\n",
       "<caption>OLS Regression Results</caption>\n",
       "<tr>\n",
       "  <th>Dep. Variable:</th>          <td>위치_이진</td>      <th>  R-squared:         </th> <td>   0.100</td> \n",
       "</tr>\n",
       "<tr>\n",
       "  <th>Model:</th>                   <td>OLS</td>       <th>  Adj. R-squared:    </th> <td>   0.100</td> \n",
       "</tr>\n",
       "<tr>\n",
       "  <th>Method:</th>             <td>Least Squares</td>  <th>  F-statistic:       </th> <td>   1434.</td> \n",
       "</tr>\n",
       "<tr>\n",
       "  <th>Date:</th>             <td>Mon, 02 Jun 2025</td> <th>  Prob (F-statistic):</th>  <td>  0.00</td>  \n",
       "</tr>\n",
       "<tr>\n",
       "  <th>Time:</th>                 <td>14:44:04</td>     <th>  Log-Likelihood:    </th> <td> -34293.</td> \n",
       "</tr>\n",
       "<tr>\n",
       "  <th>No. Observations:</th>      <td> 51671</td>      <th>  AIC:               </th> <td>6.860e+04</td>\n",
       "</tr>\n",
       "<tr>\n",
       "  <th>Df Residuals:</th>          <td> 51666</td>      <th>  BIC:               </th> <td>6.864e+04</td>\n",
       "</tr>\n",
       "<tr>\n",
       "  <th>Df Model:</th>              <td>     4</td>      <th>                     </th>     <td> </td>    \n",
       "</tr>\n",
       "<tr>\n",
       "  <th>Covariance Type:</th>      <td>nonrobust</td>    <th>                     </th>     <td> </td>    \n",
       "</tr>\n",
       "</table>\n",
       "<table class=\"simpletable\">\n",
       "<tr>\n",
       "             <td></td>               <th>coef</th>     <th>std err</th>      <th>t</th>      <th>P>|t|</th>  <th>[0.025</th>    <th>0.975]</th>  \n",
       "</tr>\n",
       "<tr>\n",
       "  <th>const</th>                  <td>    0.2906</td> <td>    0.003</td> <td>   87.629</td> <td> 0.000</td> <td>    0.284</td> <td>    0.297</td>\n",
       "</tr>\n",
       "<tr>\n",
       "  <th>사고유형_차대사람___길가장자리구역통행중</th> <td>   -0.0267</td> <td>    0.010</td> <td>   -2.791</td> <td> 0.005</td> <td>   -0.045</td> <td>   -0.008</td>\n",
       "</tr>\n",
       "<tr>\n",
       "  <th>사고유형_차대사람___보도통행중</th>      <td>    0.0396</td> <td>    0.010</td> <td>    4.124</td> <td> 0.000</td> <td>    0.021</td> <td>    0.058</td>\n",
       "</tr>\n",
       "<tr>\n",
       "  <th>사고유형_차대사람___차도통행중</th>      <td>    0.1016</td> <td>    0.007</td> <td>   15.276</td> <td> 0.000</td> <td>    0.089</td> <td>    0.115</td>\n",
       "</tr>\n",
       "<tr>\n",
       "  <th>사고유형_차대사람___횡단중</th>        <td>    0.3375</td> <td>    0.005</td> <td>   71.412</td> <td> 0.000</td> <td>    0.328</td> <td>    0.347</td>\n",
       "</tr>\n",
       "</table>\n",
       "<table class=\"simpletable\">\n",
       "<tr>\n",
       "  <th>Omnibus:</th>       <td>325371.444</td> <th>  Durbin-Watson:     </th> <td>   1.949</td>\n",
       "</tr>\n",
       "<tr>\n",
       "  <th>Prob(Omnibus):</th>   <td> 0.000</td>   <th>  Jarque-Bera (JB):  </th> <td>5304.663</td>\n",
       "</tr>\n",
       "<tr>\n",
       "  <th>Skew:</th>            <td> 0.255</td>   <th>  Prob(JB):          </th> <td>    0.00</td>\n",
       "</tr>\n",
       "<tr>\n",
       "  <th>Kurtosis:</th>        <td> 1.515</td>   <th>  Cond. No.          </th> <td>    5.64</td>\n",
       "</tr>\n",
       "</table><br/><br/>Notes:<br/>[1] Standard Errors assume that the covariance matrix of the errors is correctly specified."
      ],
      "text/latex": [
       "\\begin{center}\n",
       "\\begin{tabular}{lclc}\n",
       "\\toprule\n",
       "\\textbf{Dep. Variable:}             &      위치\\_이진      & \\textbf{  R-squared:         } &     0.100   \\\\\n",
       "\\textbf{Model:}                     &       OLS        & \\textbf{  Adj. R-squared:    } &     0.100   \\\\\n",
       "\\textbf{Method:}                    &  Least Squares   & \\textbf{  F-statistic:       } &     1434.   \\\\\n",
       "\\textbf{Date:}                      & Mon, 02 Jun 2025 & \\textbf{  Prob (F-statistic):} &     0.00    \\\\\n",
       "\\textbf{Time:}                      &     14:44:04     & \\textbf{  Log-Likelihood:    } &   -34293.   \\\\\n",
       "\\textbf{No. Observations:}          &       51671      & \\textbf{  AIC:               } & 6.860e+04   \\\\\n",
       "\\textbf{Df Residuals:}              &       51666      & \\textbf{  BIC:               } & 6.864e+04   \\\\\n",
       "\\textbf{Df Model:}                  &           4      & \\textbf{                     } &             \\\\\n",
       "\\textbf{Covariance Type:}           &    nonrobust     & \\textbf{                     } &             \\\\\n",
       "\\bottomrule\n",
       "\\end{tabular}\n",
       "\\begin{tabular}{lcccccc}\n",
       "                                    & \\textbf{coef} & \\textbf{std err} & \\textbf{t} & \\textbf{P$> |$t$|$} & \\textbf{[0.025} & \\textbf{0.975]}  \\\\\n",
       "\\midrule\n",
       "\\textbf{const}                      &       0.2906  &        0.003     &    87.629  &         0.000        &        0.284    &        0.297     \\\\\n",
       "\\textbf{사고유형\\_차대사람\\_\\_\\_길가장자리구역통행중} &      -0.0267  &        0.010     &    -2.791  &         0.005        &       -0.045    &       -0.008     \\\\\n",
       "\\textbf{사고유형\\_차대사람\\_\\_\\_보도통행중}      &       0.0396  &        0.010     &     4.124  &         0.000        &        0.021    &        0.058     \\\\\n",
       "\\textbf{사고유형\\_차대사람\\_\\_\\_차도통행중}      &       0.1016  &        0.007     &    15.276  &         0.000        &        0.089    &        0.115     \\\\\n",
       "\\textbf{사고유형\\_차대사람\\_\\_\\_횡단중}        &       0.3375  &        0.005     &    71.412  &         0.000        &        0.328    &        0.347     \\\\\n",
       "\\bottomrule\n",
       "\\end{tabular}\n",
       "\\begin{tabular}{lclc}\n",
       "\\textbf{Omnibus:}       & 325371.444 & \\textbf{  Durbin-Watson:     } &    1.949  \\\\\n",
       "\\textbf{Prob(Omnibus):} &    0.000   & \\textbf{  Jarque-Bera (JB):  } & 5304.663  \\\\\n",
       "\\textbf{Skew:}          &    0.255   & \\textbf{  Prob(JB):          } &     0.00  \\\\\n",
       "\\textbf{Kurtosis:}      &    1.515   & \\textbf{  Cond. No.          } &     5.64  \\\\\n",
       "\\bottomrule\n",
       "\\end{tabular}\n",
       "%\\caption{OLS Regression Results}\n",
       "\\end{center}\n",
       "\n",
       "Notes: \\newline\n",
       " [1] Standard Errors assume that the covariance matrix of the errors is correctly specified."
      ],
      "text/plain": [
       "<class 'statsmodels.iolib.summary.Summary'>\n",
       "\"\"\"\n",
       "                            OLS Regression Results                            \n",
       "==============================================================================\n",
       "Dep. Variable:                  위치_이진   R-squared:                       0.100\n",
       "Model:                            OLS   Adj. R-squared:                  0.100\n",
       "Method:                 Least Squares   F-statistic:                     1434.\n",
       "Date:                Mon, 02 Jun 2025   Prob (F-statistic):               0.00\n",
       "Time:                        14:44:04   Log-Likelihood:                -34293.\n",
       "No. Observations:               51671   AIC:                         6.860e+04\n",
       "Df Residuals:                   51666   BIC:                         6.864e+04\n",
       "Df Model:                           4                                         \n",
       "Covariance Type:            nonrobust                                         \n",
       "==========================================================================================\n",
       "                             coef    std err          t      P>|t|      [0.025      0.975]\n",
       "------------------------------------------------------------------------------------------\n",
       "const                      0.2906      0.003     87.629      0.000       0.284       0.297\n",
       "사고유형_차대사람___길가장자리구역통행중    -0.0267      0.010     -2.791      0.005      -0.045      -0.008\n",
       "사고유형_차대사람___보도통행중          0.0396      0.010      4.124      0.000       0.021       0.058\n",
       "사고유형_차대사람___차도통행중          0.1016      0.007     15.276      0.000       0.089       0.115\n",
       "사고유형_차대사람___횡단중            0.3375      0.005     71.412      0.000       0.328       0.347\n",
       "==============================================================================\n",
       "Omnibus:                   325371.444   Durbin-Watson:                   1.949\n",
       "Prob(Omnibus):                  0.000   Jarque-Bera (JB):             5304.663\n",
       "Skew:                           0.255   Prob(JB):                         0.00\n",
       "Kurtosis:                       1.515   Cond. No.                         5.64\n",
       "==============================================================================\n",
       "\n",
       "Notes:\n",
       "[1] Standard Errors assume that the covariance matrix of the errors is correctly specified.\n",
       "\"\"\""
      ]
     },
     "execution_count": 82,
     "metadata": {},
     "output_type": "execute_result"
    }
   ],
   "source": [
    "df_classified['위치_이진'] = df_classified['위치구분'].map({'기타도로': 0, '교차로/횡단보도': 1})   # 위치 이진 변수 생성\n",
    "df_dummy = pd.get_dummies(df_classified[['위치_이진', '사고유형']], drop_first=True)          # 사고유형을 더미 변수로 변환\n",
    "df_dummy.columns = df_dummy.columns.str.replace(' ', '_').str.replace('-', '_').str.replace('(', '').str.replace(')', '')   # 컬럼명 정리\n",
    "\n",
    "# X, y 설정\n",
    "X = df_dummy.drop(columns='위치_이진').astype(float)\n",
    "y = df_dummy['위치_이진'].astype(float)\n",
    "\n",
    "X = sm.add_constant(X)      # 상수항 추가\n",
    "model = sm.OLS(y, X).fit()  # 학습\n",
    "\n",
    "model.summary()             # 결과\n",
    "\n",
    "# ===============================================================================================================\n",
    "# Intercept (기준: 차대사람 - 기타):       0.2906         >>>       ‘기타’ 사고유형은 교차로/횡단보도에서 발생할 확률이 약 29.1%\n",
    "# 차대사람 - 길가장자리구역통행중:           -0.0267         >>>        기준보다 2.7%p 낮음, 더 기타도로에서 발생함\n",
    "# 차대사람 - 보도통행중:                   0.0396         >>>        기준보다 4.0%p 높음, 교차로/횡단보도에서 더 자주 발생\n",
    "# 차대사람 - 차도통행중:                   0.1016         >>>        기준보다 10.2%p 높음, 교차로/횡단보도 사고 비중 큼\n",
    "# 차대사람 - 횡단중:                      0.3375         >>>        기준보다 33.8%p 더 높음, 명확히 교차로 관련\n",
    "\n",
    "\n",
    "# 모든 변수의 p-value < 0.01이므로 모든 변수가 통계적 유의미\n",
    "\n",
    "# R-squared = 0.100  >  사고유형만으로는 전체 위치 분포의 10% 정도 설명 가능\n",
    "# 즉, 해당 사고가 교차로/횡단보도에서 발생했는지 아닌지를 정확히 예측하기엔 부족\n",
    "\n",
    "# 귀무가설 기각\n",
    "# ==============================================================================================================="
   ]
  },
  {
   "cell_type": "code",
   "execution_count": null,
   "id": "ed8c73aa",
   "metadata": {},
   "outputs": [],
   "source": []
  }
 ],
 "metadata": {
  "kernelspec": {
   "display_name": "ESTsoft_TP_1",
   "language": "python",
   "name": "python3"
  },
  "language_info": {
   "codemirror_mode": {
    "name": "ipython",
    "version": 3
   },
   "file_extension": ".py",
   "mimetype": "text/x-python",
   "name": "python",
   "nbconvert_exporter": "python",
   "pygments_lexer": "ipython3",
   "version": "3.11.11"
  }
 },
 "nbformat": 4,
 "nbformat_minor": 5
}
