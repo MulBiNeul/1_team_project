{
 "cells": [
  {
   "cell_type": "markdown",
   "id": "6fff99f7",
   "metadata": {},
   "source": [
    "### 고령자 비율이 높은 지역일수록 고령자 교통사고 발생 빈도가 높다."
   ]
  },
  {
   "cell_type": "markdown",
   "id": "519eca56",
   "metadata": {},
   "source": [
    "귀무가설(H0): 고령자 비율은 고령자 교통사고 피해자 수와 관련이 없다.\n",
    "<br>\n",
    "<br>\n",
    "대립가설(H1): 고령자 비율은 고령자 교통사고 피해자 수와 관련이 있다."
   ]
  },
  {
   "cell_type": "code",
   "execution_count": 1,
   "id": "a35038b1",
   "metadata": {},
   "outputs": [],
   "source": [
    "# 라이브러리 호출 및 plot 설정\n",
    "import pandas as pd\n",
    "import matplotlib\n",
    "import matplotlib.pyplot as plt\n",
    "import seaborn as sns\n",
    "from IPython.display import HTML\n",
    "from rapidfuzz import process, fuzz\n",
    "from scipy.stats import pearsonr, spearmanr\n",
    "import statsmodels.api as sm\n",
    "import warnings\n",
    "\n",
    "plt.rcParams['font.family'] = 'AppleGothic'\n",
    "plt.rcParams['axes.unicode_minus'] = False\n",
    "warnings.filterwarnings(\"ignore\")"
   ]
  },
  {
   "cell_type": "code",
   "execution_count": 2,
   "id": "7e0ff3a4",
   "metadata": {},
   "outputs": [
    {
     "data": {
      "text/html": [
       "<table border=\"1\" class=\"dataframe\">\n",
       "  <thead>\n",
       "    <tr style=\"text-align: right;\">\n",
       "      <th></th>\n",
       "      <th>연도</th>\n",
       "      <th>시군구</th>\n",
       "      <th>법정동코드</th>\n",
       "      <th>사고내용</th>\n",
       "      <th>사망자수</th>\n",
       "      <th>중상자수</th>\n",
       "      <th>경상자수</th>\n",
       "      <th>부상신고자수</th>\n",
       "      <th>사고유형</th>\n",
       "      <th>도로형태</th>\n",
       "      <th>피해자 상해정도</th>\n",
       "    </tr>\n",
       "  </thead>\n",
       "  <tbody>\n",
       "    <tr>\n",
       "      <th>0</th>\n",
       "      <td>2020</td>\n",
       "      <td>서울특별시 종로구 창성동</td>\n",
       "      <td>1111010500</td>\n",
       "      <td>중상사고</td>\n",
       "      <td>0</td>\n",
       "      <td>1</td>\n",
       "      <td>0</td>\n",
       "      <td>0</td>\n",
       "      <td>차대사람 - 차도통행중</td>\n",
       "      <td>교차로 - 교차로부근</td>\n",
       "      <td>중상</td>\n",
       "    </tr>\n",
       "    <tr>\n",
       "      <th>1</th>\n",
       "      <td>2020</td>\n",
       "      <td>서울특별시 종로구 창성동</td>\n",
       "      <td>1111010500</td>\n",
       "      <td>중상사고</td>\n",
       "      <td>0</td>\n",
       "      <td>1</td>\n",
       "      <td>0</td>\n",
       "      <td>0</td>\n",
       "      <td>차대사람 - 차도통행중</td>\n",
       "      <td>교차로 - 교차로안</td>\n",
       "      <td>중상</td>\n",
       "    </tr>\n",
       "    <tr>\n",
       "      <th>2</th>\n",
       "      <td>2020</td>\n",
       "      <td>서울특별시 종로구 통인동</td>\n",
       "      <td>1111010800</td>\n",
       "      <td>경상사고</td>\n",
       "      <td>0</td>\n",
       "      <td>0</td>\n",
       "      <td>1</td>\n",
       "      <td>0</td>\n",
       "      <td>차대사람 - 기타</td>\n",
       "      <td>단일로 - 기타</td>\n",
       "      <td>경상</td>\n",
       "    </tr>\n",
       "    <tr>\n",
       "      <th>3</th>\n",
       "      <td>2020</td>\n",
       "      <td>서울특별시 종로구 누상동</td>\n",
       "      <td>1111010900</td>\n",
       "      <td>경상사고</td>\n",
       "      <td>0</td>\n",
       "      <td>0</td>\n",
       "      <td>1</td>\n",
       "      <td>0</td>\n",
       "      <td>차대사람 - 차도통행중</td>\n",
       "      <td>교차로 - 교차로안</td>\n",
       "      <td>경상</td>\n",
       "    </tr>\n",
       "    <tr>\n",
       "      <th>4</th>\n",
       "      <td>2020</td>\n",
       "      <td>서울특별시 종로구 누상동</td>\n",
       "      <td>1111010900</td>\n",
       "      <td>경상사고</td>\n",
       "      <td>0</td>\n",
       "      <td>0</td>\n",
       "      <td>1</td>\n",
       "      <td>0</td>\n",
       "      <td>차대사람 - 기타</td>\n",
       "      <td>단일로 - 기타</td>\n",
       "      <td>경상</td>\n",
       "    </tr>\n",
       "  </tbody>\n",
       "</table>"
      ],
      "text/plain": [
       "<IPython.core.display.HTML object>"
      ]
     },
     "execution_count": 2,
     "metadata": {},
     "output_type": "execute_result"
    }
   ],
   "source": [
    "df_total = pd.read_csv('../../data/preprocessed_data/시도_시군구별_보행자_사고_사고유형_전처리ver.csv')\n",
    "# df_total\n",
    "HTML(df_total.head().to_html())"
   ]
  },
  {
   "cell_type": "code",
   "execution_count": 3,
   "id": "ee66552b",
   "metadata": {},
   "outputs": [
    {
     "data": {
      "text/html": [
       "<table border=\"1\" class=\"dataframe\">\n",
       "  <thead>\n",
       "    <tr style=\"text-align: right;\">\n",
       "      <th></th>\n",
       "      <th>연도</th>\n",
       "      <th>시군구</th>\n",
       "      <th>법정동코드</th>\n",
       "      <th>총 인구</th>\n",
       "      <th>고령자 수</th>\n",
       "      <th>고령자 비율 (%)</th>\n",
       "      <th>시군구명</th>\n",
       "    </tr>\n",
       "  </thead>\n",
       "  <tbody>\n",
       "    <tr>\n",
       "      <th>0</th>\n",
       "      <td>2020</td>\n",
       "      <td>서울특별시 종로구</td>\n",
       "      <td>1111000000</td>\n",
       "      <td>149384</td>\n",
       "      <td>28311</td>\n",
       "      <td>19</td>\n",
       "      <td>서울특별시 종로구</td>\n",
       "    </tr>\n",
       "    <tr>\n",
       "      <th>1</th>\n",
       "      <td>2020</td>\n",
       "      <td>서울특별시 중구</td>\n",
       "      <td>1114000000</td>\n",
       "      <td>125240</td>\n",
       "      <td>24174</td>\n",
       "      <td>19.3</td>\n",
       "      <td>서울특별시 중구</td>\n",
       "    </tr>\n",
       "    <tr>\n",
       "      <th>2</th>\n",
       "      <td>2020</td>\n",
       "      <td>서울특별시 용산구</td>\n",
       "      <td>1117000000</td>\n",
       "      <td>230040</td>\n",
       "      <td>39779</td>\n",
       "      <td>17.3</td>\n",
       "      <td>서울특별시 용산구</td>\n",
       "    </tr>\n",
       "    <tr>\n",
       "      <th>3</th>\n",
       "      <td>2020</td>\n",
       "      <td>서울특별시 성동구</td>\n",
       "      <td>1120000000</td>\n",
       "      <td>293556</td>\n",
       "      <td>45435</td>\n",
       "      <td>15.5</td>\n",
       "      <td>서울특별시 성동구</td>\n",
       "    </tr>\n",
       "    <tr>\n",
       "      <th>4</th>\n",
       "      <td>2020</td>\n",
       "      <td>서울특별시 광진구</td>\n",
       "      <td>1121500000</td>\n",
       "      <td>346682</td>\n",
       "      <td>50311</td>\n",
       "      <td>14.5</td>\n",
       "      <td>서울특별시 광진구</td>\n",
       "    </tr>\n",
       "  </tbody>\n",
       "</table>"
      ],
      "text/plain": [
       "<IPython.core.display.HTML object>"
      ]
     },
     "execution_count": 3,
     "metadata": {},
     "output_type": "execute_result"
    }
   ],
   "source": [
    "df_elderly_rate = pd.read_csv('../../data/preprocessed_data/시군구_고령자_비율_전처리ver.csv')\n",
    "# df_elderly_rate\n",
    "HTML(df_elderly_rate.head().to_html())"
   ]
  },
  {
   "cell_type": "code",
   "execution_count": 4,
   "id": "1caf0d14",
   "metadata": {},
   "outputs": [
    {
     "name": "stdout",
     "output_type": "stream",
     "text": [
      "['-']\n"
     ]
    }
   ],
   "source": [
    "# 숫자로 변환 불가능한 값들 확인\n",
    "non_numeric = df_elderly_rate[~df_elderly_rate['고령자 비율 (%)'].str.replace('.', '', regex=False).str.isnumeric()]\n",
    "print(non_numeric['고령자 비율 (%)'].unique())"
   ]
  },
  {
   "cell_type": "code",
   "execution_count": 5,
   "id": "b03f668a",
   "metadata": {},
   "outputs": [
    {
     "data": {
      "application/vnd.microsoft.datawrangler.viewer.v0+json": {
       "columns": [
        {
         "name": "index",
         "rawType": "int64",
         "type": "integer"
        },
        {
         "name": "시군구",
         "rawType": "object",
         "type": "string"
        },
        {
         "name": "총 인구",
         "rawType": "int64",
         "type": "integer"
        },
        {
         "name": "고령자 수",
         "rawType": "int64",
         "type": "integer"
        },
        {
         "name": "고령자 비율 (%)",
         "rawType": "float64",
         "type": "float"
        }
       ],
       "ref": "57db502f-e1d8-462e-b1bc-f82802cfc1b1",
       "rows": [
        [
         "0",
         "경상북도 의성군",
         "50264",
         "22279",
         "44.38"
        ],
        [
         "1",
         "전라남도 고흥군",
         "61973",
         "26816",
         "43.3"
        ],
        [
         "2",
         "경상남도 합천군",
         "42102",
         "17781",
         "42.3"
        ],
        [
         "3",
         "전라남도 보성군",
         "38612",
         "15870",
         "41.16"
        ],
        [
         "4",
         "경상북도 청도군",
         "41533",
         "16935",
         "40.82"
        ]
       ],
       "shape": {
        "columns": 4,
        "rows": 5
       }
      },
      "text/html": [
       "<div>\n",
       "<style scoped>\n",
       "    .dataframe tbody tr th:only-of-type {\n",
       "        vertical-align: middle;\n",
       "    }\n",
       "\n",
       "    .dataframe tbody tr th {\n",
       "        vertical-align: top;\n",
       "    }\n",
       "\n",
       "    .dataframe thead th {\n",
       "        text-align: right;\n",
       "    }\n",
       "</style>\n",
       "<table border=\"1\" class=\"dataframe\">\n",
       "  <thead>\n",
       "    <tr style=\"text-align: right;\">\n",
       "      <th></th>\n",
       "      <th>시군구</th>\n",
       "      <th>총 인구</th>\n",
       "      <th>고령자 수</th>\n",
       "      <th>고령자 비율 (%)</th>\n",
       "    </tr>\n",
       "  </thead>\n",
       "  <tbody>\n",
       "    <tr>\n",
       "      <th>0</th>\n",
       "      <td>경상북도 의성군</td>\n",
       "      <td>50264</td>\n",
       "      <td>22279</td>\n",
       "      <td>44.38</td>\n",
       "    </tr>\n",
       "    <tr>\n",
       "      <th>1</th>\n",
       "      <td>전라남도 고흥군</td>\n",
       "      <td>61973</td>\n",
       "      <td>26816</td>\n",
       "      <td>43.30</td>\n",
       "    </tr>\n",
       "    <tr>\n",
       "      <th>2</th>\n",
       "      <td>경상남도 합천군</td>\n",
       "      <td>42102</td>\n",
       "      <td>17781</td>\n",
       "      <td>42.30</td>\n",
       "    </tr>\n",
       "    <tr>\n",
       "      <th>3</th>\n",
       "      <td>전라남도 보성군</td>\n",
       "      <td>38612</td>\n",
       "      <td>15870</td>\n",
       "      <td>41.16</td>\n",
       "    </tr>\n",
       "    <tr>\n",
       "      <th>4</th>\n",
       "      <td>경상북도 청도군</td>\n",
       "      <td>41533</td>\n",
       "      <td>16935</td>\n",
       "      <td>40.82</td>\n",
       "    </tr>\n",
       "  </tbody>\n",
       "</table>\n",
       "</div>"
      ],
      "text/plain": [
       "        시군구   총 인구  고령자 수  고령자 비율 (%)\n",
       "0  경상북도 의성군  50264  22279       44.38\n",
       "1  전라남도 고흥군  61973  26816       43.30\n",
       "2  경상남도 합천군  42102  17781       42.30\n",
       "3  전라남도 보성군  38612  15870       41.16\n",
       "4  경상북도 청도군  41533  16935       40.82"
      ]
     },
     "execution_count": 5,
     "metadata": {},
     "output_type": "execute_result"
    }
   ],
   "source": [
    "# 총 인구, 고량자 수, 고령자 비율 결측을 0으로 처리\n",
    "df_elderly_rate['고령자 비율 (%)'] = pd.to_numeric(df_elderly_rate['고령자 비율 (%)'], errors='coerce').fillna(0)\n",
    "df_elderly_rate['총 인구'] = pd.to_numeric(df_elderly_rate['총 인구'], errors='coerce').fillna(0)\n",
    "df_elderly_rate['고령자 수'] = pd.to_numeric(df_elderly_rate['고령자 수'], errors='coerce').fillna(0)\n",
    "\n",
    "\n",
    "# 평균 계산 (시군구 기준)\n",
    "df_elderly_avg = (\n",
    "    df_elderly_rate\n",
    "    .groupby('시군구')[['총 인구', '고령자 수', '고령자 비율 (%)']]\n",
    "    .mean()\n",
    "    .reset_index()\n",
    ")\n",
    "\n",
    "# 정리: 소수점 반올림 및 타입 정리\n",
    "df_elderly_avg['총 인구'] = df_elderly_avg['총 인구'].round().astype(int)\n",
    "df_elderly_avg['고령자 수'] = df_elderly_avg['고령자 수'].round().astype(int)\n",
    "df_elderly_avg['고령자 비율 (%)'] = df_elderly_avg['고령자 비율 (%)'].round(2)\n",
    "\n",
    "# 내림차순 정렬\n",
    "df_elderly_avg_sorted = df_elderly_avg.sort_values(by='고령자 비율 (%)', ascending=False)\n",
    "df_elderly_avg_sorted.set_index('시군구', inplace=True)\n",
    "df_elderly_avg_sorted.reset_index(inplace=True)\n",
    "\n",
    "# 결과 확인\n",
    "df_elderly_avg_sorted.head()"
   ]
  },
  {
   "cell_type": "code",
   "execution_count": 6,
   "id": "22b40263",
   "metadata": {},
   "outputs": [],
   "source": [
    "def get_victim_stats_by_city_district(df):\n",
    "    \"\"\"\n",
    "    시군구에서 '세종특별자치시 XXX'는 '세종특별자치시'로\n",
    "    그 외는 앞 2단어(예: '서울특별시 동대문구')로 추출하여\n",
    "    피해자 수(총합 + 유형별)를 합산한 데이터프레임 반환\n",
    "    \"\"\"\n",
    "    df = df.copy()\n",
    "\n",
    "    # 시군구 요약 처리\n",
    "    def normalize_city_district(name):\n",
    "        if isinstance(name, str) and name.startswith('세종특별자치시'):\n",
    "            return '세종특별자치시'\n",
    "        elif isinstance(name, str):\n",
    "            return ' '.join(name.split()[:2])\n",
    "        return name\n",
    "\n",
    "    df['시군구'] = df['시군구'].apply(normalize_city_district)\n",
    "\n",
    "    # Null 값 0으로 처리\n",
    "    for col in ['사망자수', '중상자수', '경상자수', '부상신고자수']:\n",
    "        df[col] = df[col].fillna(0)\n",
    "\n",
    "    # 피해자 수 총합 계산\n",
    "    df['피해자수'] = (\n",
    "        df['사망자수'] +\n",
    "        df['중상자수'] +\n",
    "        df['경상자수'] +\n",
    "        df['부상신고자수']\n",
    "    )\n",
    "\n",
    "    # 시군구 기준 그룹화\n",
    "    summary = df.groupby('시군구').agg({\n",
    "        '사망자수': 'sum',\n",
    "        '중상자수': 'sum',\n",
    "        '경상자수': 'sum',\n",
    "        '부상신고자수': 'sum',\n",
    "        '피해자수': 'sum'\n",
    "    }).reset_index()\n",
    "\n",
    "    # 피해자 수 기준 정렬\n",
    "    summary = summary.sort_values(by='피해자수', ascending=False)\n",
    "\n",
    "    return summary"
   ]
  },
  {
   "cell_type": "code",
   "execution_count": 7,
   "id": "75224477",
   "metadata": {},
   "outputs": [
    {
     "data": {
      "application/vnd.microsoft.datawrangler.viewer.v0+json": {
       "columns": [
        {
         "name": "index",
         "rawType": "int64",
         "type": "integer"
        },
        {
         "name": "시군구",
         "rawType": "object",
         "type": "string"
        },
        {
         "name": "사망자수",
         "rawType": "int64",
         "type": "integer"
        },
        {
         "name": "중상자수",
         "rawType": "int64",
         "type": "integer"
        },
        {
         "name": "경상자수",
         "rawType": "int64",
         "type": "integer"
        },
        {
         "name": "부상신고자수",
         "rawType": "int64",
         "type": "integer"
        },
        {
         "name": "피해자수",
         "rawType": "int64",
         "type": "integer"
        }
       ],
       "ref": "4d131f6c-a6c7-443f-94f6-518fd5f7d067",
       "rows": [
        [
         "0",
         "경기도 수원시",
         "35",
         "493",
         "479",
         "55",
         "1062"
        ],
        [
         "1",
         "경상남도 창원시",
         "61",
         "562",
         "317",
         "42",
         "982"
        ],
        [
         "2",
         "경기도 부천시",
         "27",
         "449",
         "451",
         "35",
         "962"
        ],
        [
         "3",
         "경기도 고양시",
         "41",
         "371",
         "325",
         "62",
         "799"
        ],
        [
         "4",
         "경기도 성남시",
         "22",
         "394",
         "314",
         "68",
         "798"
        ],
        [
         "5",
         "충청북도 청주시",
         "44",
         "459",
         "269",
         "24",
         "796"
        ],
        [
         "6",
         "서울특별시 동대문구",
         "18",
         "314",
         "332",
         "27",
         "691"
        ],
        [
         "7",
         "제주특별자치도 제주시",
         "37",
         "319",
         "252",
         "29",
         "637"
        ],
        [
         "8",
         "부산광역시 부산진구",
         "14",
         "373",
         "197",
         "20",
         "604"
        ],
        [
         "9",
         "경상북도 포항시",
         "26",
         "334",
         "224",
         "19",
         "603"
        ],
        [
         "10",
         "전라북도 전주시",
         "35",
         "359",
         "207",
         "1",
         "602"
        ],
        [
         "11",
         "경기도 용인시",
         "31",
         "295",
         "223",
         "41",
         "590"
        ],
        [
         "12",
         "경기도 남양주시",
         "36",
         "283",
         "228",
         "31",
         "578"
        ],
        [
         "13",
         "충청남도 천안시",
         "50",
         "300",
         "197",
         "26",
         "573"
        ],
        [
         "14",
         "대구광역시 달서구",
         "21",
         "303",
         "229",
         "19",
         "572"
        ],
        [
         "15",
         "경기도 평택시",
         "30",
         "274",
         "213",
         "36",
         "553"
        ],
        [
         "16",
         "서울특별시 송파구",
         "19",
         "268",
         "231",
         "32",
         "550"
        ],
        [
         "17",
         "경기도 안산시",
         "19",
         "305",
         "188",
         "15",
         "527"
        ],
        [
         "18",
         "서울특별시 중랑구",
         "12",
         "244",
         "215",
         "42",
         "513"
        ],
        [
         "19",
         "서울특별시 강서구",
         "23",
         "252",
         "186",
         "33",
         "494"
        ],
        [
         "20",
         "광주광역시 북구",
         "25",
         "229",
         "212",
         "20",
         "486"
        ],
        [
         "21",
         "대구광역시 동구",
         "19",
         "257",
         "173",
         "30",
         "479"
        ],
        [
         "22",
         "서울특별시 성북구",
         "10",
         "245",
         "191",
         "32",
         "478"
        ],
        [
         "23",
         "대전광역시 서구",
         "25",
         "250",
         "191",
         "12",
         "478"
        ],
        [
         "24",
         "대구광역시 북구",
         "27",
         "258",
         "154",
         "32",
         "471"
        ],
        [
         "25",
         "서울특별시 은평구",
         "13",
         "254",
         "179",
         "25",
         "471"
        ],
        [
         "26",
         "경상남도 김해시",
         "25",
         "276",
         "149",
         "19",
         "469"
        ],
        [
         "27",
         "전라남도 여수시",
         "29",
         "238",
         "188",
         "6",
         "461"
        ],
        [
         "28",
         "서울특별시 강동구",
         "5",
         "218",
         "196",
         "27",
         "446"
        ],
        [
         "29",
         "대구광역시 수성구",
         "13",
         "242",
         "165",
         "26",
         "446"
        ],
        [
         "30",
         "서울특별시 강남구",
         "10",
         "207",
         "189",
         "40",
         "446"
        ],
        [
         "31",
         "경기도 의정부시",
         "20",
         "193",
         "189",
         "37",
         "439"
        ],
        [
         "32",
         "서울특별시 강북구",
         "12",
         "207",
         "202",
         "17",
         "438"
        ],
        [
         "33",
         "서울특별시 노원구",
         "11",
         "199",
         "201",
         "23",
         "434"
        ],
        [
         "34",
         "경기도 화성시",
         "21",
         "228",
         "157",
         "18",
         "424"
        ],
        [
         "35",
         "서울특별시 관악구",
         "20",
         "199",
         "196",
         "8",
         "423"
        ],
        [
         "36",
         "서울특별시 구로구",
         "8",
         "197",
         "202",
         "16",
         "423"
        ],
        [
         "37",
         "서울특별시 영등포구",
         "11",
         "229",
         "150",
         "31",
         "421"
        ],
        [
         "38",
         "서울특별시 양천구",
         "16",
         "202",
         "174",
         "27",
         "419"
        ],
        [
         "39",
         "경기도 광주시",
         "21",
         "189",
         "187",
         "17",
         "414"
        ],
        [
         "40",
         "서울특별시 동작구",
         "17",
         "181",
         "179",
         "31",
         "408"
        ],
        [
         "41",
         "경기도 파주시",
         "26",
         "212",
         "146",
         "19",
         "403"
        ],
        [
         "42",
         "전라남도 목포시",
         "20",
         "200",
         "173",
         "6",
         "399"
        ],
        [
         "43",
         "부산광역시 금정구",
         "8",
         "223",
         "150",
         "17",
         "398"
        ],
        [
         "44",
         "경상남도 진주시",
         "23",
         "258",
         "96",
         "10",
         "387"
        ],
        [
         "45",
         "인천광역시 부평구",
         "11",
         "178",
         "156",
         "33",
         "378"
        ],
        [
         "46",
         "경상북도 경주시",
         "28",
         "203",
         "116",
         "16",
         "363"
        ],
        [
         "47",
         "부산광역시 동래구",
         "9",
         "189",
         "152",
         "8",
         "358"
        ],
        [
         "48",
         "대전광역시 동구",
         "20",
         "180",
         "147",
         "5",
         "352"
        ],
        [
         "49",
         "부산광역시 남구",
         "15",
         "198",
         "127",
         "10",
         "350"
        ]
       ],
       "shape": {
        "columns": 6,
        "rows": 262
       }
      },
      "text/html": [
       "<div>\n",
       "<style scoped>\n",
       "    .dataframe tbody tr th:only-of-type {\n",
       "        vertical-align: middle;\n",
       "    }\n",
       "\n",
       "    .dataframe tbody tr th {\n",
       "        vertical-align: top;\n",
       "    }\n",
       "\n",
       "    .dataframe thead th {\n",
       "        text-align: right;\n",
       "    }\n",
       "</style>\n",
       "<table border=\"1\" class=\"dataframe\">\n",
       "  <thead>\n",
       "    <tr style=\"text-align: right;\">\n",
       "      <th></th>\n",
       "      <th>시군구</th>\n",
       "      <th>사망자수</th>\n",
       "      <th>중상자수</th>\n",
       "      <th>경상자수</th>\n",
       "      <th>부상신고자수</th>\n",
       "      <th>피해자수</th>\n",
       "    </tr>\n",
       "  </thead>\n",
       "  <tbody>\n",
       "    <tr>\n",
       "      <th>0</th>\n",
       "      <td>경기도 수원시</td>\n",
       "      <td>35</td>\n",
       "      <td>493</td>\n",
       "      <td>479</td>\n",
       "      <td>55</td>\n",
       "      <td>1062</td>\n",
       "    </tr>\n",
       "    <tr>\n",
       "      <th>1</th>\n",
       "      <td>경상남도 창원시</td>\n",
       "      <td>61</td>\n",
       "      <td>562</td>\n",
       "      <td>317</td>\n",
       "      <td>42</td>\n",
       "      <td>982</td>\n",
       "    </tr>\n",
       "    <tr>\n",
       "      <th>2</th>\n",
       "      <td>경기도 부천시</td>\n",
       "      <td>27</td>\n",
       "      <td>449</td>\n",
       "      <td>451</td>\n",
       "      <td>35</td>\n",
       "      <td>962</td>\n",
       "    </tr>\n",
       "    <tr>\n",
       "      <th>3</th>\n",
       "      <td>경기도 고양시</td>\n",
       "      <td>41</td>\n",
       "      <td>371</td>\n",
       "      <td>325</td>\n",
       "      <td>62</td>\n",
       "      <td>799</td>\n",
       "    </tr>\n",
       "    <tr>\n",
       "      <th>4</th>\n",
       "      <td>경기도 성남시</td>\n",
       "      <td>22</td>\n",
       "      <td>394</td>\n",
       "      <td>314</td>\n",
       "      <td>68</td>\n",
       "      <td>798</td>\n",
       "    </tr>\n",
       "    <tr>\n",
       "      <th>...</th>\n",
       "      <td>...</td>\n",
       "      <td>...</td>\n",
       "      <td>...</td>\n",
       "      <td>...</td>\n",
       "      <td>...</td>\n",
       "      <td>...</td>\n",
       "    </tr>\n",
       "    <tr>\n",
       "      <th>257</th>\n",
       "      <td>강원특별자치도 철원군</td>\n",
       "      <td>1</td>\n",
       "      <td>4</td>\n",
       "      <td>2</td>\n",
       "      <td>0</td>\n",
       "      <td>7</td>\n",
       "    </tr>\n",
       "    <tr>\n",
       "      <th>258</th>\n",
       "      <td>강원특별자치도 고성군</td>\n",
       "      <td>2</td>\n",
       "      <td>3</td>\n",
       "      <td>1</td>\n",
       "      <td>0</td>\n",
       "      <td>6</td>\n",
       "    </tr>\n",
       "    <tr>\n",
       "      <th>259</th>\n",
       "      <td>강원특별자치도 화천군</td>\n",
       "      <td>0</td>\n",
       "      <td>5</td>\n",
       "      <td>0</td>\n",
       "      <td>1</td>\n",
       "      <td>6</td>\n",
       "    </tr>\n",
       "    <tr>\n",
       "      <th>260</th>\n",
       "      <td>전북특별자치도 진안군</td>\n",
       "      <td>1</td>\n",
       "      <td>4</td>\n",
       "      <td>0</td>\n",
       "      <td>1</td>\n",
       "      <td>6</td>\n",
       "    </tr>\n",
       "    <tr>\n",
       "      <th>261</th>\n",
       "      <td>강원특별자치도 인제군</td>\n",
       "      <td>0</td>\n",
       "      <td>3</td>\n",
       "      <td>2</td>\n",
       "      <td>0</td>\n",
       "      <td>5</td>\n",
       "    </tr>\n",
       "  </tbody>\n",
       "</table>\n",
       "<p>262 rows × 6 columns</p>\n",
       "</div>"
      ],
      "text/plain": [
       "             시군구  사망자수  중상자수  경상자수  부상신고자수  피해자수\n",
       "0        경기도 수원시    35   493   479      55  1062\n",
       "1       경상남도 창원시    61   562   317      42   982\n",
       "2        경기도 부천시    27   449   451      35   962\n",
       "3        경기도 고양시    41   371   325      62   799\n",
       "4        경기도 성남시    22   394   314      68   798\n",
       "..           ...   ...   ...   ...     ...   ...\n",
       "257  강원특별자치도 철원군     1     4     2       0     7\n",
       "258  강원특별자치도 고성군     2     3     1       0     6\n",
       "259  강원특별자치도 화천군     0     5     0       1     6\n",
       "260  전북특별자치도 진안군     1     4     0       1     6\n",
       "261  강원특별자치도 인제군     0     3     2       0     5\n",
       "\n",
       "[262 rows x 6 columns]"
      ]
     },
     "execution_count": 7,
     "metadata": {},
     "output_type": "execute_result"
    }
   ],
   "source": [
    "victim_summary_df = get_victim_stats_by_city_district(df_total)\n",
    "victim_summary_df.set_index('시군구', inplace=True)\n",
    "victim_summary_df.reset_index(inplace=True)\n",
    "victim_summary_df"
   ]
  },
  {
   "cell_type": "code",
   "execution_count": 8,
   "id": "90b25153",
   "metadata": {},
   "outputs": [
    {
     "data": {
      "application/vnd.microsoft.datawrangler.viewer.v0+json": {
       "columns": [
        {
         "name": "index",
         "rawType": "int64",
         "type": "integer"
        },
        {
         "name": "시군구",
         "rawType": "object",
         "type": "string"
        },
        {
         "name": "사망자수",
         "rawType": "int64",
         "type": "integer"
        },
        {
         "name": "중상자수",
         "rawType": "int64",
         "type": "integer"
        },
        {
         "name": "경상자수",
         "rawType": "int64",
         "type": "integer"
        },
        {
         "name": "부상신고자수",
         "rawType": "int64",
         "type": "integer"
        },
        {
         "name": "피해자수",
         "rawType": "int64",
         "type": "integer"
        }
       ],
       "ref": "23c53ecc-809a-4601-bae6-df7ce17d65c8",
       "rows": [
        [
         "0",
         "경기도 수원시",
         "35",
         "493",
         "479",
         "55",
         "1062"
        ],
        [
         "1",
         "경상남도 창원시",
         "61",
         "562",
         "317",
         "42",
         "982"
        ],
        [
         "2",
         "경기도 부천시",
         "27",
         "449",
         "451",
         "35",
         "962"
        ],
        [
         "3",
         "경기도 고양시",
         "41",
         "371",
         "325",
         "62",
         "799"
        ],
        [
         "4",
         "경기도 성남시",
         "22",
         "394",
         "314",
         "68",
         "798"
        ],
        [
         "5",
         "충청북도 청주시",
         "44",
         "459",
         "269",
         "24",
         "796"
        ],
        [
         "6",
         "서울특별시 동대문구",
         "18",
         "314",
         "332",
         "27",
         "691"
        ],
        [
         "7",
         "제주특별자치도 제주시",
         "37",
         "319",
         "252",
         "29",
         "637"
        ],
        [
         "8",
         "부산광역시 부산진구",
         "14",
         "373",
         "197",
         "20",
         "604"
        ],
        [
         "9",
         "경상북도 포항시",
         "26",
         "334",
         "224",
         "19",
         "603"
        ],
        [
         "10",
         "전라북도 전주시",
         "35",
         "359",
         "207",
         "1",
         "602"
        ],
        [
         "11",
         "경기도 용인시",
         "31",
         "295",
         "223",
         "41",
         "590"
        ],
        [
         "12",
         "경기도 남양주시",
         "36",
         "283",
         "228",
         "31",
         "578"
        ],
        [
         "13",
         "충청남도 천안시",
         "50",
         "300",
         "197",
         "26",
         "573"
        ],
        [
         "14",
         "대구광역시 달서구",
         "21",
         "303",
         "229",
         "19",
         "572"
        ],
        [
         "15",
         "경기도 평택시",
         "30",
         "274",
         "213",
         "36",
         "553"
        ],
        [
         "16",
         "서울특별시 송파구",
         "19",
         "268",
         "231",
         "32",
         "550"
        ],
        [
         "17",
         "경기도 안산시",
         "19",
         "305",
         "188",
         "15",
         "527"
        ],
        [
         "18",
         "서울특별시 중랑구",
         "12",
         "244",
         "215",
         "42",
         "513"
        ],
        [
         "19",
         "서울특별시 강서구",
         "23",
         "252",
         "186",
         "33",
         "494"
        ],
        [
         "20",
         "광주광역시 북구",
         "25",
         "229",
         "212",
         "20",
         "486"
        ],
        [
         "21",
         "대구광역시 동구",
         "19",
         "257",
         "173",
         "30",
         "479"
        ],
        [
         "22",
         "서울특별시 성북구",
         "10",
         "245",
         "191",
         "32",
         "478"
        ],
        [
         "23",
         "대전광역시 서구",
         "25",
         "250",
         "191",
         "12",
         "478"
        ],
        [
         "24",
         "대구광역시 북구",
         "27",
         "258",
         "154",
         "32",
         "471"
        ],
        [
         "25",
         "서울특별시 은평구",
         "13",
         "254",
         "179",
         "25",
         "471"
        ],
        [
         "26",
         "경상남도 김해시",
         "25",
         "276",
         "149",
         "19",
         "469"
        ],
        [
         "27",
         "전라남도 여수시",
         "29",
         "238",
         "188",
         "6",
         "461"
        ],
        [
         "28",
         "서울특별시 강동구",
         "5",
         "218",
         "196",
         "27",
         "446"
        ],
        [
         "29",
         "대구광역시 수성구",
         "13",
         "242",
         "165",
         "26",
         "446"
        ],
        [
         "30",
         "서울특별시 강남구",
         "10",
         "207",
         "189",
         "40",
         "446"
        ],
        [
         "31",
         "경기도 의정부시",
         "20",
         "193",
         "189",
         "37",
         "439"
        ],
        [
         "32",
         "서울특별시 강북구",
         "12",
         "207",
         "202",
         "17",
         "438"
        ],
        [
         "33",
         "서울특별시 노원구",
         "11",
         "199",
         "201",
         "23",
         "434"
        ],
        [
         "34",
         "경기도 화성시",
         "21",
         "228",
         "157",
         "18",
         "424"
        ],
        [
         "35",
         "서울특별시 관악구",
         "20",
         "199",
         "196",
         "8",
         "423"
        ],
        [
         "36",
         "서울특별시 구로구",
         "8",
         "197",
         "202",
         "16",
         "423"
        ],
        [
         "37",
         "서울특별시 영등포구",
         "11",
         "229",
         "150",
         "31",
         "421"
        ],
        [
         "38",
         "서울특별시 양천구",
         "16",
         "202",
         "174",
         "27",
         "419"
        ],
        [
         "39",
         "경기도 광주시",
         "21",
         "189",
         "187",
         "17",
         "414"
        ],
        [
         "40",
         "서울특별시 동작구",
         "17",
         "181",
         "179",
         "31",
         "408"
        ],
        [
         "41",
         "경기도 파주시",
         "26",
         "212",
         "146",
         "19",
         "403"
        ],
        [
         "42",
         "전라남도 목포시",
         "20",
         "200",
         "173",
         "6",
         "399"
        ],
        [
         "43",
         "부산광역시 금정구",
         "8",
         "223",
         "150",
         "17",
         "398"
        ],
        [
         "44",
         "경상남도 진주시",
         "23",
         "258",
         "96",
         "10",
         "387"
        ],
        [
         "45",
         "인천광역시 부평구",
         "11",
         "178",
         "156",
         "33",
         "378"
        ],
        [
         "46",
         "경상북도 경주시",
         "28",
         "203",
         "116",
         "16",
         "363"
        ],
        [
         "47",
         "부산광역시 동래구",
         "9",
         "189",
         "152",
         "8",
         "358"
        ],
        [
         "48",
         "대전광역시 동구",
         "20",
         "180",
         "147",
         "5",
         "352"
        ],
        [
         "49",
         "부산광역시 남구",
         "15",
         "198",
         "127",
         "10",
         "350"
        ]
       ],
       "shape": {
        "columns": 6,
        "rows": 262
       }
      },
      "text/html": [
       "<div>\n",
       "<style scoped>\n",
       "    .dataframe tbody tr th:only-of-type {\n",
       "        vertical-align: middle;\n",
       "    }\n",
       "\n",
       "    .dataframe tbody tr th {\n",
       "        vertical-align: top;\n",
       "    }\n",
       "\n",
       "    .dataframe thead th {\n",
       "        text-align: right;\n",
       "    }\n",
       "</style>\n",
       "<table border=\"1\" class=\"dataframe\">\n",
       "  <thead>\n",
       "    <tr style=\"text-align: right;\">\n",
       "      <th></th>\n",
       "      <th>시군구</th>\n",
       "      <th>사망자수</th>\n",
       "      <th>중상자수</th>\n",
       "      <th>경상자수</th>\n",
       "      <th>부상신고자수</th>\n",
       "      <th>피해자수</th>\n",
       "    </tr>\n",
       "  </thead>\n",
       "  <tbody>\n",
       "    <tr>\n",
       "      <th>0</th>\n",
       "      <td>경기도 수원시</td>\n",
       "      <td>35</td>\n",
       "      <td>493</td>\n",
       "      <td>479</td>\n",
       "      <td>55</td>\n",
       "      <td>1062</td>\n",
       "    </tr>\n",
       "    <tr>\n",
       "      <th>1</th>\n",
       "      <td>경상남도 창원시</td>\n",
       "      <td>61</td>\n",
       "      <td>562</td>\n",
       "      <td>317</td>\n",
       "      <td>42</td>\n",
       "      <td>982</td>\n",
       "    </tr>\n",
       "    <tr>\n",
       "      <th>2</th>\n",
       "      <td>경기도 부천시</td>\n",
       "      <td>27</td>\n",
       "      <td>449</td>\n",
       "      <td>451</td>\n",
       "      <td>35</td>\n",
       "      <td>962</td>\n",
       "    </tr>\n",
       "    <tr>\n",
       "      <th>3</th>\n",
       "      <td>경기도 고양시</td>\n",
       "      <td>41</td>\n",
       "      <td>371</td>\n",
       "      <td>325</td>\n",
       "      <td>62</td>\n",
       "      <td>799</td>\n",
       "    </tr>\n",
       "    <tr>\n",
       "      <th>4</th>\n",
       "      <td>경기도 성남시</td>\n",
       "      <td>22</td>\n",
       "      <td>394</td>\n",
       "      <td>314</td>\n",
       "      <td>68</td>\n",
       "      <td>798</td>\n",
       "    </tr>\n",
       "    <tr>\n",
       "      <th>...</th>\n",
       "      <td>...</td>\n",
       "      <td>...</td>\n",
       "      <td>...</td>\n",
       "      <td>...</td>\n",
       "      <td>...</td>\n",
       "      <td>...</td>\n",
       "    </tr>\n",
       "    <tr>\n",
       "      <th>257</th>\n",
       "      <td>강원도 철원군</td>\n",
       "      <td>1</td>\n",
       "      <td>4</td>\n",
       "      <td>2</td>\n",
       "      <td>0</td>\n",
       "      <td>7</td>\n",
       "    </tr>\n",
       "    <tr>\n",
       "      <th>258</th>\n",
       "      <td>강원도 고성군</td>\n",
       "      <td>2</td>\n",
       "      <td>3</td>\n",
       "      <td>1</td>\n",
       "      <td>0</td>\n",
       "      <td>6</td>\n",
       "    </tr>\n",
       "    <tr>\n",
       "      <th>259</th>\n",
       "      <td>강원도 화천군</td>\n",
       "      <td>0</td>\n",
       "      <td>5</td>\n",
       "      <td>0</td>\n",
       "      <td>1</td>\n",
       "      <td>6</td>\n",
       "    </tr>\n",
       "    <tr>\n",
       "      <th>260</th>\n",
       "      <td>전라북도 진안군</td>\n",
       "      <td>1</td>\n",
       "      <td>4</td>\n",
       "      <td>0</td>\n",
       "      <td>1</td>\n",
       "      <td>6</td>\n",
       "    </tr>\n",
       "    <tr>\n",
       "      <th>261</th>\n",
       "      <td>강원도 인제군</td>\n",
       "      <td>0</td>\n",
       "      <td>3</td>\n",
       "      <td>2</td>\n",
       "      <td>0</td>\n",
       "      <td>5</td>\n",
       "    </tr>\n",
       "  </tbody>\n",
       "</table>\n",
       "<p>262 rows × 6 columns</p>\n",
       "</div>"
      ],
      "text/plain": [
       "          시군구  사망자수  중상자수  경상자수  부상신고자수  피해자수\n",
       "0     경기도 수원시    35   493   479      55  1062\n",
       "1    경상남도 창원시    61   562   317      42   982\n",
       "2     경기도 부천시    27   449   451      35   962\n",
       "3     경기도 고양시    41   371   325      62   799\n",
       "4     경기도 성남시    22   394   314      68   798\n",
       "..        ...   ...   ...   ...     ...   ...\n",
       "257   강원도 철원군     1     4     2       0     7\n",
       "258   강원도 고성군     2     3     1       0     6\n",
       "259   강원도 화천군     0     5     0       1     6\n",
       "260  전라북도 진안군     1     4     0       1     6\n",
       "261   강원도 인제군     0     3     2       0     5\n",
       "\n",
       "[262 rows x 6 columns]"
      ]
     },
     "execution_count": 8,
     "metadata": {},
     "output_type": "execute_result"
    }
   ],
   "source": [
    "# 지역명 통일\n",
    "replace_dict = {\n",
    "    '강원특별자치도': '강원도',\n",
    "    '전북특별자치도': '전라북도',\n",
    "}\n",
    "\n",
    "# 시도명 표준화\n",
    "def standardize_region_name(region_name):\n",
    "    for old, new in replace_dict.items():\n",
    "        if region_name.startswith(old):\n",
    "            return region_name.replace(old, new, 1)\n",
    "    return region_name\n",
    "\n",
    "victim_summary_df['시군구'] = victim_summary_df['시군구'].apply(standardize_region_name)\n",
    "victim_summary_df"
   ]
  },
  {
   "cell_type": "code",
   "execution_count": null,
   "id": "0ce09184",
   "metadata": {},
   "outputs": [
    {
     "name": "stdout",
     "output_type": "stream",
     "text": [
      "고령자 데이터에만 있는 시군구:\n",
      "[]\n",
      "\n",
      "피해자 데이터에만 있는 시군구:\n",
      "[]\n"
     ]
    }
   ],
   "source": [
    "elderly_regions = set(df_elderly_avg_sorted['시군구'].unique())\n",
    "victim_regions = set(victim_summary_df['시군구'].unique())\n",
    "\n",
    "only_in_elderly = elderly_regions - victim_regions   # 고령자 데이터에는 있지만 피해자 데이터에는 없는 지역\n",
    "only_in_victim = victim_regions - elderly_regions    # 피해자 데이터에는 있지만 고령자 데이터에는 없는 지역\n",
    "\n",
    "# 결과 확인\n",
    "print(\"고령자 데이터에만 있는 시군구:\")\n",
    "print(sorted(only_in_elderly))\n",
    "print(\"\\n피해자 데이터에만 있는 시군구:\")\n",
    "print(sorted(only_in_victim))"
   ]
  },
  {
   "cell_type": "code",
   "execution_count": 10,
   "id": "e07ab87f",
   "metadata": {},
   "outputs": [
    {
     "data": {
      "text/html": [
       "<table border=\"1\" class=\"dataframe\">\n",
       "  <thead>\n",
       "    <tr style=\"text-align: right;\">\n",
       "      <th>시군구</th>\n",
       "      <th>고령자 비율 (%)</th>\n",
       "      <th>총 인구</th>\n",
       "      <th>고령자 수</th>\n",
       "      <th>사망자수</th>\n",
       "      <th>중상자수</th>\n",
       "      <th>경상자수</th>\n",
       "      <th>부상신고자수</th>\n",
       "      <th>피해자수</th>\n",
       "    </tr>\n",
       "  </thead>\n",
       "  <tbody>\n",
       "    <tr>\n",
       "      <td>경상북도 의성군</td>\n",
       "      <td>44.38</td>\n",
       "      <td>50264</td>\n",
       "      <td>22279</td>\n",
       "      <td>16</td>\n",
       "      <td>57</td>\n",
       "      <td>31</td>\n",
       "      <td>1</td>\n",
       "      <td>105</td>\n",
       "    </tr>\n",
       "    <tr>\n",
       "      <td>전라남도 고흥군</td>\n",
       "      <td>43.30</td>\n",
       "      <td>61973</td>\n",
       "      <td>26816</td>\n",
       "      <td>9</td>\n",
       "      <td>84</td>\n",
       "      <td>46</td>\n",
       "      <td>0</td>\n",
       "      <td>139</td>\n",
       "    </tr>\n",
       "    <tr>\n",
       "      <td>경상남도 합천군</td>\n",
       "      <td>42.30</td>\n",
       "      <td>42102</td>\n",
       "      <td>17781</td>\n",
       "      <td>8</td>\n",
       "      <td>54</td>\n",
       "      <td>19</td>\n",
       "      <td>7</td>\n",
       "      <td>88</td>\n",
       "    </tr>\n",
       "    <tr>\n",
       "      <td>전라남도 보성군</td>\n",
       "      <td>41.16</td>\n",
       "      <td>38612</td>\n",
       "      <td>15870</td>\n",
       "      <td>10</td>\n",
       "      <td>37</td>\n",
       "      <td>36</td>\n",
       "      <td>2</td>\n",
       "      <td>85</td>\n",
       "    </tr>\n",
       "    <tr>\n",
       "      <td>경상북도 청도군</td>\n",
       "      <td>40.82</td>\n",
       "      <td>41533</td>\n",
       "      <td>16935</td>\n",
       "      <td>7</td>\n",
       "      <td>39</td>\n",
       "      <td>23</td>\n",
       "      <td>2</td>\n",
       "      <td>71</td>\n",
       "    </tr>\n",
       "  </tbody>\n",
       "</table>"
      ],
      "text/plain": [
       "<IPython.core.display.HTML object>"
      ]
     },
     "execution_count": 10,
     "metadata": {},
     "output_type": "execute_result"
    }
   ],
   "source": [
    "# 일치 결과 저장 리스트\n",
    "mapping = []\n",
    "\n",
    "for i, row in df_elderly_avg_sorted.iterrows():\n",
    "    elderly_region = row['시군구']\n",
    "    best_match, score, _ = process.extractOne(\n",
    "        elderly_region,\n",
    "        victim_summary_df['시군구'],\n",
    "        scorer=fuzz.token_sort_ratio\n",
    "    )\n",
    "\n",
    "    if score >= 80:  # 유사도 기준\n",
    "        victim_row = victim_summary_df[victim_summary_df['시군구'] == best_match].iloc[0]\n",
    "        merged_row = {\n",
    "            '시군구': elderly_region,\n",
    "            '고령자 비율 (%)': row['고령자 비율 (%)'],\n",
    "            '총 인구': row['총 인구'],\n",
    "            '고령자 수': row['고령자 수'],\n",
    "            '사망자수': victim_row['사망자수'],\n",
    "            '중상자수': victim_row['중상자수'],\n",
    "            '경상자수': victim_row['경상자수'],\n",
    "            '부상신고자수': victim_row['부상신고자수'],\n",
    "            '피해자수': victim_row['피해자수']\n",
    "        }\n",
    "        mapping.append(merged_row)\n",
    "\n",
    "# 매핑된 데이터프레임 생성\n",
    "df_merged = pd.DataFrame(mapping)\n",
    "# df_merged\n",
    "HTML(df_merged.head(5).to_html(index=False))"
   ]
  },
  {
   "cell_type": "code",
   "execution_count": 11,
   "id": "5a2233c7",
   "metadata": {},
   "outputs": [
    {
     "data": {
      "image/png": "[encoded data removed]",
      "text/plain": [
       "<Figure size 600x400 with 1 Axes>"
      ]
     },
     "metadata": {},
     "output_type": "display_data"
    }
   ],
   "source": [
    "# 고령자 비율 대비 고령자 피해자 수 확인\n",
    "plt.figure(figsize=(6, 4))\n",
    "sns.regplot(data=df_merged, x='고령자 비율 (%)', y='피해자수', scatter_kws={'alpha':0.5})\n",
    "plt.title(\"고령자 비율 vs 고령자 피해자 수\")\n",
    "plt.xlabel(\"고령자 비율 (%)\")\n",
    "plt.ylabel(\"피해자 수\")\n",
    "plt.grid(True)\n",
    "plt.tight_layout()\n",
    "plt.show()\n",
    "\n",
    "# save_path = '../../outputs/가설_2/고령자_비율_대비_고령자_피해자_수.png'\n",
    "# plt.savefig(save_path)"
   ]
  },
  {
   "cell_type": "code",
   "execution_count": 20,
   "id": "c1eb349d",
   "metadata": {},
   "outputs": [
    {
     "data": {
      "image/png": "[encoded data removed]",
      "text/plain": [
       "<Figure size 1000x600 with 2 Axes>"
      ]
     },
     "metadata": {},
     "output_type": "display_data"
    },
    {
     "data": {
      "text/plain": [
       "<Figure size 640x480 with 0 Axes>"
      ]
     },
     "metadata": {},
     "output_type": "display_data"
    }
   ],
   "source": [
    "# 피어슨 상관 계수 시각화\n",
    "plt.figure(figsize=(10, 6))\n",
    "sns.heatmap(df_merged[['고령자 비율 (%)', '피해자수']].corr(method='pearson'), annot=True, cmap='coolwarm')\n",
    "plt.title('피어슨 상관계수 히트맵')\n",
    "plt.show()\n",
    "\n",
    "# save_path = '../../outputs/가설_2/피어슨_상관계수_히트맵.png'\n",
    "# plt.savefig(save_path)"
   ]
  },
  {
   "cell_type": "code",
   "execution_count": 21,
   "id": "e43bc84c",
   "metadata": {},
   "outputs": [
    {
     "data": {
      "image/png": "[encoded data removed]",
      "text/plain": [
       "<Figure size 1000x600 with 2 Axes>"
      ]
     },
     "metadata": {},
     "output_type": "display_data"
    },
    {
     "data": {
      "text/plain": [
       "<Figure size 640x480 with 0 Axes>"
      ]
     },
     "metadata": {},
     "output_type": "display_data"
    }
   ],
   "source": [
    "# 스피어만 상관 계수 시각화\n",
    "plt.figure(figsize=(10, 6))\n",
    "sns.heatmap(df_merged[['고령자 비율 (%)', '피해자수']].corr(method='spearman'), annot=True, cmap='coolwarm')\n",
    "plt.title('스피어만 상관계수 히트맵')\n",
    "plt.show()\n",
    "\n",
    "# save_path = '../../outputs/가설_2/스피어만_상관계수_히트맵.png'\n",
    "# plt.savefig(save_path)"
   ]
  },
  {
   "cell_type": "code",
   "execution_count": null,
   "id": "2445600f",
   "metadata": {},
   "outputs": [
    {
     "name": "stdout",
     "output_type": "stream",
     "text": [
      "피어슨 상관계수: -0.584, p-value: 0.000000000000000000000210816590\n"
     ]
    }
   ],
   "source": [
    "corr, p = pearsonr(df_merged['고령자 비율 (%)'], df_merged['피해자수'])\n",
    "print(f'피어슨 상관계수: {corr:.3f}, p-value: {p:.30f}')\n",
    "\n",
    "# =================================================\n",
    "# 음의 상관관계. 고령자 비율이 높을수록 피해자 수는 오히려 감소\n",
    "# p-value < 0.05이므로, 통계적으로 유의\n",
    "# ================================================="
   ]
  },
  {
   "cell_type": "code",
   "execution_count": null,
   "id": "12ddabd5",
   "metadata": {},
   "outputs": [
    {
     "name": "stdout",
     "output_type": "stream",
     "text": [
      "스피어만 상관계수: -0.637, p-value: 0.000000000000000000000000001466\n"
     ]
    }
   ],
   "source": [
    "corr, p = spearmanr(df_merged['고령자 비율 (%)'], df_merged['피해자수'])\n",
    "print(f'스피어만 상관계수: {corr:.3f}, p-value: {p:.30f}')\n",
    "\n",
    "# =================================================\n",
    "# 음의 상관관계. 고령자 비율이 높을수록 피해자 수는 오히려 감소\n",
    "# p-value < 0.05이므로, 통계적으로 유의\n",
    "# 귀무가설 기각\n",
    "# ================================================="
   ]
  },
  {
   "cell_type": "code",
   "execution_count": null,
   "id": "54082ea0",
   "metadata": {},
   "outputs": [
    {
     "name": "stdout",
     "output_type": "stream",
     "text": [
      "                            OLS Regression Results                            \n",
      "==============================================================================\n",
      "Dep. Variable:                   피해자수   R-squared:                       0.341\n",
      "Model:                            OLS   Adj. R-squared:                  0.338\n",
      "Method:                 Least Squares   F-statistic:                     117.9\n",
      "Date:                Sun, 01 Jun 2025   Prob (F-statistic):           2.11e-22\n",
      "Time:                        22:59:19   Log-Likelihood:                -1488.6\n",
      "No. Observations:                 230   AIC:                             2981.\n",
      "Df Residuals:                     228   BIC:                             2988.\n",
      "Df Model:                           1                                         \n",
      "Covariance Type:            nonrobust                                         \n",
      "==============================================================================\n",
      "                 coef    std err          t      P>|t|      [0.025      0.975]\n",
      "------------------------------------------------------------------------------\n",
      "const        540.9925     30.362     17.818      0.000     481.167     600.818\n",
      "고령자 비율 (%)   -12.8793      1.186    -10.856      0.000     -15.217     -10.542\n",
      "==============================================================================\n",
      "Omnibus:                       61.380   Durbin-Watson:                   1.744\n",
      "Prob(Omnibus):                  0.000   Jarque-Bera (JB):              165.171\n",
      "Skew:                           1.168   Prob(JB):                     1.36e-36\n",
      "Kurtosis:                       6.432   Cond. No.                         75.1\n",
      "==============================================================================\n",
      "\n",
      "Notes:\n",
      "[1] Standard Errors assume that the covariance matrix of the errors is correctly specified.\n"
     ]
    }
   ],
   "source": [
    "X = df_merged['고령자 비율 (%)']\n",
    "y = df_merged['피해자수']\n",
    "X_const = sm.add_constant(X)\n",
    "\n",
    "model = sm.OLS(y, X_const).fit()\n",
    "print(model.summary())\n",
    "\n",
    "# ======================================================================================================================\n",
    "# 고령자 비율이 1% 증가할 때, 피해자 수는 평균적으로 약 12.88명 감소\n",
    "# p-value는 0.000이므로, 회귀계수가 유의미\n",
    "# 귀무가설 기각\n",
    "# 결정계수(R²)=0.341 -> 고령자 비율만으로 고령자 피해자 수의 약 34.1%를 설명 가능. 나머지는 고령자 절대 수, 차량 수, 인구 밀도 등에 의해 설명 가능.\n",
    "# ======================================================================================================================"
   ]
  }
 ],
 "metadata": {
  "kernelspec": {
   "display_name": "ESTsoft_TP_1",
   "language": "python",
   "name": "python3"
  },
  "language_info": {
   "codemirror_mode": {
    "name": "ipython",
    "version": 3
   },
   "file_extension": ".py",
   "mimetype": "text/x-python",
   "name": "python",
   "nbconvert_exporter": "python",
   "pygments_lexer": "ipython3",
   "version": "3.11.11"
  }
 },
 "nbformat": 4,
 "nbformat_minor": 5
}
