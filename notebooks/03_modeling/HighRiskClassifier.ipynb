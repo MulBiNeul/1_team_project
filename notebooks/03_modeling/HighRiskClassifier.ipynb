{
 "cells": [
  {
   "cell_type": "code",
   "execution_count": null,
   "id": "440e8195",
   "metadata": {},
   "outputs": [],
   "source": [
    "import pandas as pd\n",
    "from sklearn.model_selection import train_test_split\n",
    "from autogluon.tabular import TabularPredictor"
   ]
  },
  {
   "cell_type": "code",
   "execution_count": null,
   "id": "50528778",
   "metadata": {},
   "outputs": [],
   "source": [
    "df = pd.read_csv('../../data/preprocessed_data/시도_시군구별_보행자_사고_사고유형_전처리ver.csv')\n",
    "\n",
    "# 피해 가중 점수 계산\n",
    "df['피해가중점수'] = (\n",
    "    df['사망자수'] * 1 +\n",
    "    df['중상자수'] * 0.1 +\n",
    "    df['경상자수'] * 0.01 +\n",
    "    df['부상신고자수'] * 0.001\n",
    ")\n",
    "\n",
    "# 가중치 계산\n",
    "avg_by_area = df.groupby('시군구')['피해가중점수'].mean().to_dict()\n",
    "type_weight = df.groupby('사고유형')['피해가중점수'].mean()\n",
    "road_weight = df.groupby('도로형태')['피해가중점수'].mean()\n",
    "\n",
    "# feature 생성\n",
    "df['사고도로조합'] = df['사고유형'] + '_' + df['도로형태']\n",
    "df['시군구_평균사고'] = df['시군구'].map(avg_by_area)\n",
    "df['사고유형가중치'] = df['사고유형'].map(type_weight)\n",
    "df['도로형태가중치'] = df['도로형태'].map(road_weight)\n",
    "\n",
    "df['최종위험점수'] = df['피해가중점수'] + 0.5 * (df['사고유형가중치'] + df['도로형태가중치'])\n",
    "\n",
    "# 시군구별 평균 위험도 기반 고위험 지역 여부 정의\n",
    "avg_risk_by_area = df.groupby('시군구')['최종위험점수'].mean()\n",
    "threshold = avg_risk_by_area.quantile(0.8)\n",
    "\n",
    "df['시군구_위험여부'] = df['시군구'].map(lambda x: int(avg_risk_by_area[x] > threshold))\n",
    "\n",
    "feature_cols = ['사고유형', '도로형태', '피해가중점수', '사고도로조합', '시군구_평균사고']      # feature 선택\n",
    "target_col = '시군구_위험여부'                                                       # target 선택\n",
    "\n",
    "df_model = df[feature_cols + [target_col]].dropna()                              # 결측 제거\n",
    "\n",
    "train_data, test_data = train_test_split(df_model, test_size=0.2, random_state=42, stratify=df_model[target_col])   # 데이터 분할\n",
    "\n",
    "# 모델 학습\n",
    "predictor = TabularPredictor(label=target_col, path='HighRiskClassifier', problem_type='binary').fit(\n",
    "    train_data=train_data,\n",
    "    presets='high_quality',\n",
    "    time_limit=600,\n",
    "    num_cpus=10,\n",
    "    verbosity=2\n",
    ")\n",
    "\n",
    "predictor.save()                # 모델 저장\n",
    "predictor.evaluate(test_data)   # 모델 평가\n",
    "\n",
    "# 리더보드 출력\n",
    "leaderboard = predictor.leaderboard(test_data, silent=True)\n",
    "print(leaderboard)"
   ]
  },
  {
   "cell_type": "code",
   "execution_count": null,
   "id": "93e5d1fc",
   "metadata": {},
   "outputs": [],
   "source": [
    "# 예측 예시\n",
    "sample = pd.DataFrame([{\n",
    "    '사고유형': '차대사람 - 차도통행중',\n",
    "    '도로형태': '교차로 - 교차로부근',\n",
    "    '피해가중점수': 1.15,\n",
    "    '사고도로조합': '차대사람 - 차도통행중_교차로 - 교차로부근',\n",
    "    '시군구_평균사고': avg_by_area.get('종로구', 0)\n",
    "}])\n",
    "print(predictor.predict(sample))"
   ]
  }
 ],
 "metadata": {
  "language_info": {
   "name": "python"
  }
 },
 "nbformat": 4,
 "nbformat_minor": 5
}
